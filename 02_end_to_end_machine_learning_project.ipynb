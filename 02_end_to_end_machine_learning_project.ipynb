{
 "cells": [
  {
   "cell_type": "markdown",
   "metadata": {},
   "source": [
    "# Chapter 2 – End-to-end Machine Learning project**\n",
    "\n",
    "*Welcome to Machine Learning Housing Corp.! Your task is to predict median house values in Californian districts, given a number of features from these districts Using Java.*\n",
    "\n"
   ]
  },
  {
   "cell_type": "markdown",
   "metadata": {},
   "source": [
    "# Setup"
   ]
  },
  {
   "cell_type": "markdown",
   "metadata": {},
   "source": [
    "First, let's make sure this notebook works well in :"
   ]
  },
  {
   "cell_type": "code",
   "execution_count": 32,
   "metadata": {},
   "outputs": [],
   "source": [
    "%maven commons-io:commons-io:jar:2.6\n",
    "%maven io.vavr:vavr:jar:0.10.0\n",
    "%maven org.apache.commons:commons-compress:1.18\n",
    "%maven tech.tablesaw:tablesaw-core:jar:0.32.7\n",
    "%maven tech.tablesaw:tablesaw-jsplot:jar:0.32.7\n",
    "%maven com.github.haifengl:smile-core:jar:1.5.2\n",
    "%maven com.github.haifengl:smile-plot:jar:1.5.2   \n",
    "    \n",
    "import org.apache.commons.io.*;\n",
    "import java.io.*;\n",
    "import io.vavr.control.*;\n",
    "import org.apache.commons.compress.archivers.tar.*;\n",
    "import org.apache.commons.compress.compressors.gzip.*;\n",
    "\n",
    "var DOWNLOAD_ROOT = \"https://raw.githubusercontent.com/ageron/handson-ml/master/\";\n",
    "var HOUSING_URL = DOWNLOAD_ROOT + \"datasets/housing/housing.tgz\";\n",
    "var PROJECT_ROOT_DIR = \".\";\n",
    "var CHAPTER_ID = \"end_to_end_project\";\n",
    "var HOUSING_PATH = FilenameUtils.concat(\"datasets\", \"housing\");\n",
    "var BUFFER_SIZE = 1024;\n",
    "void fetch_housing_data(String housingUrl, File housingPath){\n",
    "   housingUrl = Objects.toString(housingUrl,HOUSING_URL);\n",
    "   Objects.requireNonNull(housingPath);\n",
    "   if(!housingPath.exists()){\n",
    "       Try.run(() -> FileUtils.forceMkdir(housingPath));\n",
    "   }\n",
    "   var tgzPath = new File(FilenameUtils.concat(housingPath.getPath(), \"housing.tgz\"));\n",
    "   var urlTemp = housingUrl;\n",
    "   Try.run(() -> FileUtils.copyURLToFile(new URL(urlTemp), tgzPath )); \n",
    "   Try.run(() -> extractTarGZ(tgzPath, housingPath) );\n",
    "}\n",
    "\n",
    "void extractTarGZ(File in, File destDir) throws Exception {\n",
    "    GzipCompressorInputStream gzipIn = new GzipCompressorInputStream(new FileInputStream(in));\n",
    "    try (TarArchiveInputStream tarIn = new TarArchiveInputStream(gzipIn)) {\n",
    "        TarArchiveEntry entry;\n",
    "\n",
    "        while ((entry = (TarArchiveEntry) tarIn.getNextEntry()) != null) {\n",
    "            /** If the entry is a directory, create the directory. **/\n",
    "            if (entry.isDirectory()) {\n",
    "                File f = new File(FilenameUtils.concat(destDir.getPath(),entry.getName()));\n",
    "                boolean created = f.mkdir();\n",
    "                if (!created) {\n",
    "                    System.out.printf(\"Unable to create directory '%s', during extraction of archive contents.\\n\",\n",
    "                            f.getAbsolutePath());\n",
    "                }\n",
    "            } else {\n",
    "                int count;\n",
    "                byte data[] = new byte[BUFFER_SIZE];\n",
    "                FileOutputStream fos = new FileOutputStream(FilenameUtils.concat(destDir.getPath(),entry.getName()), false);\n",
    "                try (BufferedOutputStream dest = new BufferedOutputStream(fos, BUFFER_SIZE)) {\n",
    "                    while ((count = tarIn.read(data, 0, BUFFER_SIZE)) != -1) {\n",
    "                        dest.write(data, 0, count);\n",
    "                    }\n",
    "                }\n",
    "            }\n",
    "        }\n",
    "\n",
    "    }\n",
    "}\n"
   ]
  },
  {
   "cell_type": "code",
   "execution_count": 33,
   "metadata": {},
   "outputs": [],
   "source": [
    "//fetch_housing_data(HOUSING_URL, new File(HOUSING_PATH));"
   ]
  },
  {
   "cell_type": "code",
   "execution_count": 34,
   "metadata": {},
   "outputs": [],
   "source": [
    "\n",
    "import tech.tablesaw.api.Table;\n",
    "\n",
    "Table load_housing_data(File housingPathCsv){\n",
    " return Try.of(() ->Table.read().csv(housingPathCsv)).get();\n",
    "}\n"
   ]
  },
  {
   "cell_type": "code",
   "execution_count": 35,
   "metadata": {},
   "outputs": [
    {
     "data": {
      "text/plain": [
       "                                                                                  housing.csv                                                                                  \n",
       " longitude  |  latitude  |  housing_median_age  |  total_rooms  |  total_bedrooms  |  population  |  households  |  median_income  |  median_house_value  |  ocean_proximity  |\n",
       "-------------------------------------------------------------------------------------------------------------------------------------------------------------------------------\n",
       "   -122.23  |     37.88  |                  41  |          880  |             129  |         322  |         126  |         8.3252  |              452600  |         NEAR BAY  |\n",
       "   -122.22  |     37.86  |                  21  |         7099  |            1106  |        2401  |        1138  |         8.3014  |              358500  |         NEAR BAY  |\n",
       "   -122.24  |     37.85  |                  52  |         1467  |             190  |         496  |         177  |         7.2574  |              352100  |         NEAR BAY  |\n",
       "   -122.25  |     37.85  |                  52  |         1274  |             235  |         558  |         219  |         5.6431  |              341300  |         NEAR BAY  |"
      ]
     },
     "execution_count": 35,
     "metadata": {},
     "output_type": "execute_result"
    }
   ],
   "source": [
    "\n",
    "var housing = load_housing_data(new File(FilenameUtils.concat(HOUSING_PATH,\"housing.csv\")));\n",
    "housing.first(4);"
   ]
  },
  {
   "cell_type": "code",
   "execution_count": 36,
   "metadata": {},
   "outputs": [
    {
     "data": {
      "text/plain": [
       "            Structure of housing.csv            \n",
       " Index  |     Column Name      |  Column Type  |\n",
       "------------------------------------------------\n",
       "     0  |           longitude  |       DOUBLE  |\n",
       "     1  |            latitude  |       DOUBLE  |\n",
       "     2  |  housing_median_age  |      INTEGER  |\n",
       "     3  |         total_rooms  |      INTEGER  |\n",
       "     4  |      total_bedrooms  |      INTEGER  |\n",
       "     5  |          population  |      INTEGER  |\n",
       "     6  |          households  |      INTEGER  |\n",
       "     7  |       median_income  |       DOUBLE  |\n",
       "     8  |  median_house_value  |      INTEGER  |\n",
       "     9  |     ocean_proximity  |       STRING  |"
      ]
     },
     "metadata": {},
     "output_type": "display_data"
    },
    {
     "data": {
      "text/plain": [
       "20640 rows X 10 cols"
      ]
     },
     "metadata": {},
     "output_type": "display_data"
    },
    {
     "data": {
      "text/plain": [
       "\n",
       "Table summary for: housing.csv\n",
       "         Column: longitude          \n",
       " Measure   |         Value         |\n",
       "------------------------------------\n",
       "        n  |              20640.0  |\n",
       "      sum  |   -2467918.699999941  |\n",
       "     Mean  |  -119.56970445736455  |\n",
       "      Min  |              -124.35  |\n",
       "      Max  |              -114.31  |\n",
       "    Range  |   10.039999999999992  |\n",
       " Variance  |    4.014139367081234  |\n",
       " Std. Dev  |    2.003531723502584  |\n",
       "         Column: latitude         \n",
       " Measure   |        Value        |\n",
       "----------------------------------\n",
       "        n  |            20640.0  |\n",
       "      sum  |  735441.6200000036  |\n",
       "     Mean  |  35.63186143410859  |\n",
       "      Min  |              32.54  |\n",
       "      Max  |              41.95  |\n",
       "    Range  |  9.410000000000004  |\n",
       " Variance  |  4.562292644202738  |\n",
       " Std. Dev  |  2.135952397457101  |\n",
       "    Column: housing_median_age     \n",
       " Measure   |        Value         |\n",
       "-----------------------------------\n",
       "        n  |             20640.0  |\n",
       "      sum  |            591119.0  |\n",
       "     Mean  |  28.639486434108502  |\n",
       "      Min  |                 1.0  |\n",
       "      Max  |                52.0  |\n",
       "    Range  |                51.0  |\n",
       " Variance  |    158.396260407781  |\n",
       " Std. Dev  |   12.58555761211163  |\n",
       "        Column: total_rooms        \n",
       " Measure   |        Value         |\n",
       "-----------------------------------\n",
       "        n  |             20640.0  |\n",
       "      sum  |          5.440215E7  |\n",
       "     Mean  |   2635.763081395356  |\n",
       "      Min  |                 2.0  |\n",
       "      Max  |             39320.0  |\n",
       "    Range  |             39318.0  |\n",
       " Variance  |    4759445.10593866  |\n",
       " Std. Dev  |  2181.6152515827944  |\n",
       " Column: total_bedrooms \n",
       " Measure   |   Value   |\n",
       "------------------------\n",
       "        n  |  20640.0  |\n",
       "      sum  |           |\n",
       "     Mean  |           |\n",
       "      Min  |      1.0  |\n",
       "      Max  |   6445.0  |\n",
       "    Range  |   6444.0  |\n",
       " Variance  |           |\n",
       " Std. Dev  |           |\n",
       "        Column: population         \n",
       " Measure   |        Value         |\n",
       "-----------------------------------\n",
       "        n  |             20640.0  |\n",
       "      sum  |          2.942184E7  |\n",
       "     Mean  |  1425.4767441860452  |\n",
       "      Min  |                 3.0  |\n",
       "      Max  |             35682.0  |\n",
       "    Range  |             35679.0  |\n",
       " Variance  |  1282470.4572332557  |\n",
       " Std. Dev  |    1132.46212176534  |\n",
       "        Column: households         \n",
       " Measure   |        Value         |\n",
       "-----------------------------------\n",
       "        n  |             20640.0  |\n",
       "      sum  |         1.0310499E7  |\n",
       "     Mean  |  499.53968023255766  |\n",
       "      Min  |                 1.0  |\n",
       "      Max  |              6082.0  |\n",
       "    Range  |              6081.0  |\n",
       " Variance  |  146176.03990027987  |\n",
       " Std. Dev  |   382.3297528316098  |\n",
       "       Column: median_income       \n",
       " Measure   |        Value         |\n",
       "-----------------------------------\n",
       "        n  |             20640.0  |\n",
       "      sum  |   79890.64950000099  |\n",
       "     Mean  |  3.8706710029069904  |\n",
       "      Min  |              0.4999  |\n",
       "      Max  |             15.0001  |\n",
       "    Range  |             14.5002  |\n",
       " Variance  |    3.60932255997649  |\n",
       " Std. Dev  |   1.899821717945263  |\n",
       "      Column: median_house_value      \n",
       " Measure   |          Value          |\n",
       "--------------------------------------\n",
       "        n  |                20640.0  |\n",
       "      sum  |          4.269504061E9  |\n",
       "     Mean  |     206855.81690891646  |\n",
       "      Min  |                14999.0  |\n",
       "      Max  |               500001.0  |\n",
       "    Range  |               485002.0  |\n",
       " Variance  |  1.3316148163035213E10  |\n",
       " Std. Dev  |     115395.61587441359  |\n",
       "Column: ocean_proximity \n",
       "  Category   |  Count  |\n",
       "------------------------\n",
       "     ISLAND  |      5  |\n",
       " NEAR OCEAN  |   2658  |\n",
       "   NEAR BAY  |   2290  |\n",
       "     INLAND  |   6551  |\n",
       "  <1H OCEAN  |   9136  |\n",
       "\n"
      ]
     },
     "metadata": {},
     "output_type": "display_data"
    },
    {
     "data": {
      "text/plain": [
       "b273c5d2-d322-469e-aded-428c6ca6013b"
      ]
     },
     "execution_count": 36,
     "metadata": {},
     "output_type": "execute_result"
    }
   ],
   "source": [
    "//planning to replicate housing.info()\n",
    "display(housing.structure());\n",
    "display(housing.shape());\n",
    "display(housing.summary());"
   ]
  },
  {
   "cell_type": "code",
   "execution_count": 37,
   "metadata": {},
   "outputs": [
    {
     "data": {
      "text/plain": [
       "Column: ocean_proximity \n",
       "  Category   |  Count  |\n",
       "------------------------\n",
       "     ISLAND  |      5  |\n",
       " NEAR OCEAN  |   2658  |\n",
       "   NEAR BAY  |   2290  |\n",
       "     INLAND  |   6551  |\n",
       "  <1H OCEAN  |   9136  |"
      ]
     },
     "execution_count": 37,
     "metadata": {},
     "output_type": "execute_result"
    }
   ],
   "source": [
    "housing.xTabCounts(\"ocean_proximity\")"
   ]
  },
  {
   "cell_type": "code",
   "execution_count": 38,
   "metadata": {
    "scrolled": true
   },
   "outputs": [],
   "source": [
    "\n",
    "import smile.plot.Histogram;\n",
    "import tech.tablesaw.plotly.components.Figure;\n",
    "import tech.tablesaw.plotly.components.Layout;\n",
    "import tech.tablesaw.plotly.api.Histogram;  \n",
    "import tech.tablesaw.plotly.Plot;\n",
    "import javax.imageio.ImageIO;\n",
    "import java.io.File;\n",
    "import java.io.FileOutputStream;\n",
    "import java.io.IOException;\n",
    "import java.nio.file.Files;\n",
    "import java.nio.file.Path;\n",
    "import java.nio.file.Paths;\n",
    "import java.util.UUID;\n",
    "import tech.tablesaw.plotly.components.Page;\n",
    "\n",
    "void renderPlotly(Figure fig){\n",
    "    Page page = Page.pageBuilder(fig, \"target\").build();\n",
    "    display(page.asJavascript(),\"text/html\");\n",
    "}\n",
    "\n",
    "//renderPlotly(Histogram.create(\"Distribution of total_rooms\", housing, \"total_rooms\"));\n",
    "\n",
    "// housing.numericColumns().forEach(f ->{\n",
    "//          HistogramTrace trace = HistogramTrace.builder(f.asDoubleArray()).build();\n",
    "//          Plot.show(new Figure(Layout.builder(f.name()).build(), trace));\n",
    "        \n",
    "// });\n"
   ]
  },
  {
   "cell_type": "markdown",
   "metadata": {},
   "source": [
    "# Preparing for stratified sampling\n",
    "*I have skipped random sampling in the book*"
   ]
  },
  {
   "cell_type": "code",
   "execution_count": 39,
   "metadata": {},
   "outputs": [
    {
     "data": {
      "text/plain": [
       "                                                                                         housing.csv                                                                                          \n",
       " longitude  |  latitude  |  housing_median_age  |  total_rooms  |  total_bedrooms  |  population  |  households  |  median_income  |  median_house_value  |  ocean_proximity  |  income_cat  |\n",
       "----------------------------------------------------------------------------------------------------------------------------------------------------------------------------------------------\n",
       "   -122.23  |     37.88  |                  41  |          880  |             129  |         322  |         126  |         8.3252  |              452600  |         NEAR BAY  |         5.0  |\n",
       "   -122.22  |     37.86  |                  21  |         7099  |            1106  |        2401  |        1138  |         8.3014  |              358500  |         NEAR BAY  |         5.0  |"
      ]
     },
     "execution_count": 39,
     "metadata": {},
     "output_type": "execute_result"
    }
   ],
   "source": [
    "import java.util.function.ToDoubleFunction;\n",
    "var incomeCat = housing.doubleColumn(\"median_income\").map((ToDoubleFunction<Double>) f -> Math.ceil(f/1.5)).map((ToDoubleFunction<Double>)cat -> cat > 5 ? 5: cat );\n",
    "housing.addColumns(incomeCat.setName(\"income_cat\"));\n",
    "housing.first(2)"
   ]
  },
  {
   "cell_type": "code",
   "execution_count": 40,
   "metadata": {
    "scrolled": true
   },
   "outputs": [
    {
     "data": {
      "text/plain": [
       "16513 rows X 10 cols"
      ]
     },
     "metadata": {},
     "output_type": "display_data"
    },
    {
     "data": {
      "text/plain": [
       "4127 rows X 10 cols"
      ]
     },
     "metadata": {},
     "output_type": "display_data"
    },
    {
     "data": {
      "text/plain": [
       "                                      housing.csv summary                                       \n",
       " Mean [median_income]  |  Count [median_income]  |   Mean [longitude]    |  Count [longitude]  |\n",
       "------------------------------------------------------------------------------------------------\n",
       "   3.8697425006057675  |                 4127.0  |  -119.56478555851709  |             4127.0  |"
      ]
     },
     "metadata": {},
     "output_type": "display_data"
    },
    {
     "data": {
      "text/plain": [
       "                                      housing.csv summary                                       \n",
       " Mean [median_income]  |  Count [median_income]  |   Mean [longitude]    |  Count [longitude]  |\n",
       "------------------------------------------------------------------------------------------------\n",
       "    3.870903058196591  |                16513.0  |  -119.57093380972567  |            16513.0  |"
      ]
     },
     "execution_count": 40,
     "metadata": {},
     "output_type": "execute_result"
    }
   ],
   "source": [
    "import tech.tablesaw.api.CategoricalColumn;\n",
    "import tech.tablesaw.columns.Column;\n",
    "import static tech.tablesaw.aggregate.AggregateFunctions.*;\n",
    "Table[] stratifiedSampleSplit(Table table, String column, double table1Proportion){\n",
    "    final Table first = table.emptyCopy();\n",
    "    final Table second = table.emptyCopy();\n",
    "    String categoricalColumn = column;\n",
    "    Column<?> col = table.column(column);\n",
    "    if(!CategoricalColumn.class.isInstance(col)){\n",
    "        categoricalColumn += \"_stringified\";\n",
    "        table.addColumns(col.asStringColumn().setName(categoricalColumn));\n",
    "    }\n",
    "    table.splitOn(categoricalColumn).asTableList().forEach(tab-> {\n",
    "       Table[] splits = tab.sampleSplit(table1Proportion); \n",
    "        first.append(splits[0]);\n",
    "        second.append(splits[1]);\n",
    "    });\n",
    "    if(!categoricalColumn.equals(column)){\n",
    "        table.removeColumns(table.column(categoricalColumn));\n",
    "    }\n",
    "    return new Table[]{first, second};\n",
    "}\n",
    "\n",
    "var strats = stratifiedSampleSplit(housing,\"income_cat\", 0.2);\n",
    "strats[1].removeColumns(strats[1].column(\"income_cat\"));\n",
    "strats[0].removeColumns(strats[0].column(\"income_cat\"));\n",
    "display(strats[1].shape());\n",
    "display(strats[0].shape());\n",
    "display(strats[0].summarize(\"longitude\",\"median_income\", mean, count).apply());\n",
    "strats[1].summarize(\"longitude\",\"median_income\", mean, count).apply();\n"
   ]
  },
  {
   "cell_type": "markdown",
   "metadata": {},
   "source": [
    "# Discover and visualize the data to gain insights"
   ]
  },
  {
   "cell_type": "markdown",
   "metadata": {},
   "source": [
    "**skipped for now"
   ]
  },
  {
   "cell_type": "code",
   "execution_count": 41,
   "metadata": {},
   "outputs": [
    {
     "data": {
      "text/plain": [
       "16513 rows X 10 cols"
      ]
     },
     "execution_count": 41,
     "metadata": {},
     "output_type": "execute_result"
    }
   ],
   "source": [
    "housing = strats[1].copy();\n",
    "housing.shape();"
   ]
  },
  {
   "cell_type": "markdown",
   "metadata": {},
   "source": [
    "**Tablesaw  doesn handle missing values very well so we will set missing values to 0"
   ]
  },
  {
   "cell_type": "code",
   "execution_count": 42,
   "metadata": {},
   "outputs": [
    {
     "data": {
      "text/plain": [
       "                                                                                                                                                                   housing.csv summary                                                                                                                                                                   \n",
       " Missing Values [housing_median_age]  |  Missing Values [median_income]  |  Missing Values [latitude]  |  Missing Values [median_house_value]  |  Missing Values [ocean_proximity]  |  Missing Values [total_rooms]  |  Missing Values [households]  |  Missing Values [total_bedrooms]  |  Missing Values [longitude]  |  Missing Values [population]  |\n",
       "---------------------------------------------------------------------------------------------------------------------------------------------------------------------------------------------------------------------------------------------------------------------------------------------------------------------------------------------------------\n",
       "                                 0.0  |                             0.0  |                        0.0  |                                  0.0  |                               0.0  |                           0.0  |                          0.0  |                            162.0  |                         0.0  |                          0.0  |"
      ]
     },
     "execution_count": 42,
     "metadata": {},
     "output_type": "execute_result"
    }
   ],
   "source": [
    "housing.missingValueCounts();"
   ]
  },
  {
   "cell_type": "code",
   "execution_count": 43,
   "metadata": {},
   "outputs": [
    {
     "data": {
      "text/plain": [
       "                             housing.csv summary                             \n",
       " Mean [total_bedrooms]  |  Sum [total_bedrooms]  |  Count [total_bedrooms]  |\n",
       "-----------------------------------------------------------------------------\n",
       "     531.3648034881594  |             8774427.0  |                 16513.0  |"
      ]
     },
     "execution_count": 43,
     "metadata": {},
     "output_type": "execute_result"
    }
   ],
   "source": [
    "var tBRoom = housing.intColumn(\"total_bedrooms\");\n",
    "housing.replaceColumn(\"total_bedrooms\",tBRoom.set(tBRoom.isMissing(),0));\n",
    "var summarizer = housing.summarize(\"total_bedrooms\", mean, sum, count).apply();\n",
    "summarizer"
   ]
  },
  {
   "cell_type": "code",
   "execution_count": 44,
   "metadata": {},
   "outputs": [
    {
     "data": {
      "text/plain": [
       "                                                                                                                                                                   housing.csv summary                                                                                                                                                                   \n",
       " Missing Values [housing_median_age]  |  Missing Values [median_income]  |  Missing Values [latitude]  |  Missing Values [median_house_value]  |  Missing Values [ocean_proximity]  |  Missing Values [total_rooms]  |  Missing Values [households]  |  Missing Values [total_bedrooms]  |  Missing Values [longitude]  |  Missing Values [population]  |\n",
       "---------------------------------------------------------------------------------------------------------------------------------------------------------------------------------------------------------------------------------------------------------------------------------------------------------------------------------------------------------\n",
       "                                 0.0  |                             0.0  |                        0.0  |                                  0.0  |                               0.0  |                           0.0  |                          0.0  |                              0.0  |                         0.0  |                          0.0  |"
      ]
     },
     "execution_count": 44,
     "metadata": {},
     "output_type": "execute_result"
    }
   ],
   "source": [
    "housing.missingValueCounts();"
   ]
  },
  {
   "cell_type": "markdown",
   "metadata": {},
   "source": [
    "**lets save the mean because we will need it later"
   ]
  },
  {
   "cell_type": "code",
   "execution_count": 45,
   "metadata": {},
   "outputs": [
    {
     "data": {
      "text/plain": [
       "531.3648034881594"
      ]
     },
     "execution_count": 45,
     "metadata": {},
     "output_type": "execute_result"
    }
   ],
   "source": [
    "var totalBedroomsMean = summarizer.column(0).get(0);\n",
    "totalBedroomsMean;"
   ]
  },
  {
   "cell_type": "markdown",
   "metadata": {},
   "source": [
    "**Looking for correlation"
   ]
  },
  {
   "cell_type": "code",
   "execution_count": 46,
   "metadata": {},
   "outputs": [
    {
     "data": {
      "text/plain": [
       "[(latitude, -0.137640523720164), (longitude, -0.051933320209414054), (population, -0.024536335050061808), (total_bedrooms, 0.04991302623699379), (households, 0.06683809516116539), (housing_median_age, 0.1105272062254497), (total_rooms, 0.13486449898161207), (median_income, 0.6877984372879941), (median_house_value, 1.0)]"
      ]
     },
     "execution_count": 46,
     "metadata": {},
     "output_type": "execute_result"
    }
   ],
   "source": [
    "import java.util.stream.*;\n",
    "import smile.math.distance.CorrelationDistance;\n",
    "import org.apache.commons.math3.stat.correlation.PearsonsCorrelation;\n",
    "import io.vavr.Tuple;  \n",
    "\n",
    "var medianVector  = housing.intColumn(\"median_house_value\").asDoubleColumn();\n",
    "\n",
    "var corr = new PearsonsCorrelation();\n",
    "housing.numericColumns().stream()\n",
    "    .map(i -> Tuple.of(i.name(),corr.correlation( i.asDoubleArray(), medianVector.asDoubleArray() )))\n",
    "    .sorted((a, b) -> {\n",
    "        int c = 0;\n",
    "        if( a._2 == Double.NaN  && b._2 == Double.NaN ){\n",
    "            c = 0;\n",
    "        }\n",
    "        else if(b._2 == Double.NaN || a._2 > b._2){\n",
    "            c = 1;\n",
    "        }\n",
    "        else if(a._2 == Double.NaN ||a._2 < b._2){\n",
    "            c = -1;\n",
    "        }\n",
    "        \n",
    "        return c;\n",
    "    })\n",
    "    .collect(Collectors.toList());"
   ]
  },
  {
   "cell_type": "markdown",
   "metadata": {},
   "source": [
    "**Plot Pandas correlation later"
   ]
  },
  {
   "cell_type": "code",
   "execution_count": null,
   "metadata": {},
   "outputs": [],
   "source": []
  },
  {
   "cell_type": "code",
   "execution_count": 47,
   "metadata": {},
   "outputs": [
    {
     "data": {
      "text/plain": [
       "\n",
       "Table summary for: housing.csv\n",
       "         Column: longitude          \n",
       " Measure   |         Value         |\n",
       "------------------------------------\n",
       "        n  |              16513.0  |\n",
       "      sum  |  -1974474.8299999777  |\n",
       "     Mean  |  -119.57093380972564  |\n",
       "      Min  |              -124.35  |\n",
       "      Max  |              -114.31  |\n",
       "    Range  |   10.039999999999992  |\n",
       " Variance  |    4.017495663799331  |\n",
       " Std. Dev  |   2.0043691435958926  |\n",
       "         Column: latitude          \n",
       " Measure   |        Value         |\n",
       "-----------------------------------\n",
       "        n  |             16513.0  |\n",
       "      sum  |   588369.8100000032  |\n",
       "     Mean  |   35.63070368800327  |\n",
       "      Min  |               32.54  |\n",
       "      Max  |               41.92  |\n",
       "    Range  |   9.380000000000003  |\n",
       " Variance  |   4.551459122041311  |\n",
       " Std. Dev  |  2.1334148968358946  |\n",
       "    Column: housing_median_age     \n",
       " Measure   |        Value         |\n",
       "-----------------------------------\n",
       "        n  |             16513.0  |\n",
       "      sum  |            474078.0  |\n",
       "     Mean  |  28.709380488100283  |\n",
       "      Min  |                 1.0  |\n",
       "      Max  |                52.0  |\n",
       "    Range  |                51.0  |\n",
       " Variance  |  157.55307152146244  |\n",
       " Std. Dev  |  12.552014639947743  |\n",
       "        Column: total_rooms        \n",
       " Measure   |        Value         |\n",
       "-----------------------------------\n",
       "        n  |             16513.0  |\n",
       "      sum  |         4.3363756E7  |\n",
       "     Mean  |  2626.0374250590503  |\n",
       "      Min  |                 2.0  |\n",
       "      Max  |             39320.0  |\n",
       "    Range  |             39318.0  |\n",
       " Variance  |   4708164.400367684  |\n",
       " Std. Dev  |  2169.8305003773185  |\n",
       "      Column: total_bedrooms       \n",
       " Measure   |        Value         |\n",
       "-----------------------------------\n",
       "        n  |             16513.0  |\n",
       "      sum  |           8774427.0  |\n",
       "     Mean  |    531.364803488163  |\n",
       "      Min  |                 0.0  |\n",
       "      Max  |              6445.0  |\n",
       "    Range  |              6445.0  |\n",
       " Variance  |  176535.77630958043  |\n",
       " Std. Dev  |   420.1616073721877  |\n",
       "        Column: population         \n",
       " Measure   |        Value         |\n",
       "-----------------------------------\n",
       "        n  |             16513.0  |\n",
       "      sum  |         2.3508503E7  |\n",
       "     Mean  |   1423.636104887055  |\n",
       "      Min  |                 3.0  |\n",
       "      Max  |             35682.0  |\n",
       "    Range  |             35679.0  |\n",
       " Variance  |  1300466.0470175906  |\n",
       " Std. Dev  |  1140.3797819224922  |\n",
       "        Column: households         \n",
       " Measure   |        Value         |\n",
       "-----------------------------------\n",
       "        n  |             16513.0  |\n",
       "      sum  |           8227980.0  |\n",
       "     Mean  |  498.27287591594643  |\n",
       "      Min  |                 1.0  |\n",
       "      Max  |              6082.0  |\n",
       "    Range  |              6081.0  |\n",
       " Variance  |   144673.9510913953  |\n",
       " Std. Dev  |  380.36029116009905  |\n",
       "       Column: median_income       \n",
       " Measure   |        Value         |\n",
       "-----------------------------------\n",
       "        n  |             16513.0  |\n",
       "      sum  |   63920.22219999983  |\n",
       "     Mean  |   3.870903058196573  |\n",
       "      Min  |              0.4999  |\n",
       "      Max  |             15.0001  |\n",
       "    Range  |             14.5002  |\n",
       " Variance  |  3.6358689182882427  |\n",
       " Std. Dev  |  1.9067954579052895  |\n",
       "      Column: median_house_value      \n",
       " Measure   |          Value          |\n",
       "--------------------------------------\n",
       "        n  |                16513.0  |\n",
       "      sum  |          3.417515976E9  |\n",
       "     Mean  |      206959.1216617199  |\n",
       "      Min  |                14999.0  |\n",
       "      Max  |               500001.0  |\n",
       "    Range  |               485002.0  |\n",
       " Variance  |  1.3321784624692768E10  |\n",
       " Std. Dev  |     115420.03562940347  |\n",
       "Column: ocean_proximity \n",
       "  Category   |  Count  |\n",
       "------------------------\n",
       "     ISLAND  |      4  |\n",
       " NEAR OCEAN  |   2132  |\n",
       "     INLAND  |   5188  |\n",
       "   NEAR BAY  |   1853  |\n",
       "  <1H OCEAN  |   7336  |\n",
       "    Column: rooms_per_household    \n",
       " Measure   |        Value         |\n",
       "-----------------------------------\n",
       "        n  |             16513.0  |\n",
       "      sum  |   89712.77292991824  |\n",
       "     Mean  |   5.432857320288154  |\n",
       "      Min  |  0.8888888888888888  |\n",
       "      Max  |   141.9090909090909  |\n",
       "    Range  |  141.02020202020202  |\n",
       " Variance  |   6.555023912096854  |\n",
       " Std. Dev  |  2.5602780927268145  |\n",
       "      Column: bedrooms_per_room      \n",
       " Measure   |         Value          |\n",
       "-------------------------------------\n",
       "        n  |               16513.0  |\n",
       "      sum  |    3488.9490915199194  |\n",
       "     Mean  |   0.21128499312783466  |\n",
       "      Min  |                   0.0  |\n",
       "      Max  |                   1.0  |\n",
       "    Range  |                   1.0  |\n",
       " Variance  |  0.003795932389548511  |\n",
       " Std. Dev  |   0.06161113851852205  |\n",
       "  Column: population_per_household  \n",
       " Measure   |         Value         |\n",
       "------------------------------------\n",
       "        n  |              16513.0  |\n",
       "      sum  |   17976.277941246415  |\n",
       "     Mean  |    1.088613694740276  |\n",
       "      Min  |                  0.0  |\n",
       "      Max  |    34.06666666666667  |\n",
       "    Range  |    34.06666666666667  |\n",
       " Variance  |  0.26088883602431145  |\n",
       " Std. Dev  |   0.5107727831671451  |\n",
       "\n"
      ]
     },
     "execution_count": 47,
     "metadata": {},
     "output_type": "execute_result"
    }
   ],
   "source": [
    "housing.addColumns( \n",
    "    housing.nCol(\"total_rooms\").divide(housing.nCol(\"households\")).setName(\"rooms_per_household\"),\n",
    "    housing.nCol(\"total_bedrooms\").divide(housing.nCol(\"total_rooms\")).setName(\"bedrooms_per_room\"),\n",
    "    housing.nCol(\"total_bedrooms\").divide(housing.nCol(\"households\")).setName(\"population_per_household\")\n",
    ");\n",
    "housing.summary()"
   ]
  },
  {
   "cell_type": "code",
   "execution_count": 48,
   "metadata": {},
   "outputs": [
    {
     "data": {
      "text/plain": [
       "[(bedrooms_per_room, -0.23658451309666478), (latitude, -0.137640523720164), (longitude, -0.051933320209414054), (population_per_household, -0.04476566155335623), (population, -0.024536335050061808), (total_bedrooms, 0.04991302623699379), (households, 0.06683809516116539), (housing_median_age, 0.1105272062254497), (total_rooms, 0.13486449898161207), (rooms_per_household, 0.1461389816781181), (median_income, 0.6877984372879941), (median_house_value, 1.0)]"
      ]
     },
     "execution_count": 48,
     "metadata": {},
     "output_type": "execute_result"
    }
   ],
   "source": [
    "var medianVector  = housing.intColumn(\"median_house_value\").asDoubleColumn();\n",
    "\n",
    "var corr = new PearsonsCorrelation();\n",
    "housing.numericColumns().stream()\n",
    "    .map(i -> Tuple.of(i.name(),corr.correlation( i.asDoubleArray(), medianVector.asDoubleArray() )))    \n",
    "    .sorted((a, b) -> {\n",
    "        int c = 0;\n",
    "        if( a._2 == Double.NaN  && b._2 == Double.NaN ){\n",
    "            c = 0;\n",
    "        }\n",
    "        else if(b._2 == Double.NaN || a._2 > b._2){\n",
    "            c = 1;\n",
    "        }\n",
    "        else if(a._2 == Double.NaN ||a._2 < b._2){\n",
    "            c = -1;\n",
    "        }\n",
    "        \n",
    "        return c;\n",
    "    })\n",
    "    .collect(Collectors.toList());"
   ]
  },
  {
   "cell_type": "code",
   "execution_count": 49,
   "metadata": {},
   "outputs": [
    {
     "data": {
      "text/plain": [
       "                                                                                                                                                                                                                                  housing.csv summary                                                                                                                                                                                                                                  \n",
       " Missing Values [housing_median_age]  |  Missing Values [median_income]  |  Missing Values [latitude]  |  Missing Values [ocean_proximity]  |  Missing Values [households]  |  Missing Values [total_bedrooms]  |  Missing Values [population]  |  Missing Values [median_house_value]  |  Missing Values [total_rooms]  |  Missing Values [population_per_household]  |  Missing Values [bedrooms_per_room]  |  Missing Values [longitude]  |  Missing Values [rooms_per_household]  |\n",
       "---------------------------------------------------------------------------------------------------------------------------------------------------------------------------------------------------------------------------------------------------------------------------------------------------------------------------------------------------------------------------------------------------------------------------------------------------------------------------------------\n",
       "                                 0.0  |                             0.0  |                        0.0  |                               0.0  |                          0.0  |                              0.0  |                          0.0  |                                  0.0  |                           0.0  |                                        0.0  |                                 0.0  |                         0.0  |                                   0.0  |"
      ]
     },
     "execution_count": 49,
     "metadata": {},
     "output_type": "execute_result"
    }
   ],
   "source": [
    "housing.missingValueCounts();"
   ]
  },
  {
   "cell_type": "markdown",
   "metadata": {},
   "source": [
    "**I am going with option 1(Get rid of the corresponding districts.)"
   ]
  },
  {
   "cell_type": "code",
   "execution_count": 50,
   "metadata": {},
   "outputs": [
    {
     "data": {
      "text/plain": [
       "housing.csv Summary\n",
       "\t\tmin\tq1\tmedian\tmean\tq3\tmax\n",
       "longitude\t\t-124.3500\t-121.8000\t-118.5000\t-119.5709\t-118.0100\t-114.3100\n",
       "latitude\t\t32.5400\t33.9300\t34.2500\t35.6307\t37.7200\t41.9200\n",
       "housing_median_age\t\t1.0000\t18.0000\t29.0000\t28.7094\t37.0000\t52.0000\n",
       "total_rooms\t\t2.0000\t1448.0000\t2120.0000\t2626.0374\t3136.0000\t39320.0000\n",
       "total_bedrooms\t\t1.0000\t295.0000\t434.0000\tNaN\t646.0000\t6445.0000\n",
       "population\t\t3.0000\t785.0000\t1164.0000\t1423.6361\t1720.0000\t35682.0000\n",
       "households\t\t1.0000\t280.0000\t409.0000\t498.2729\t601.0000\t6082.0000\n",
       "median_income\t\t0.4999\t2.5625\t3.5368\t3.8709\t4.7422\t15.0001\n",
       "ocean_proximity\t\t0.0000\t0.0000\t1.0000\t0.9269\t1.0000\t4.0000\n",
       "rooms_per_household\t\t0.8889\t4.4363\t5.2332\t5.4329\t6.0560\t141.9091\n",
       "2 more rows..."
      ]
     },
     "execution_count": 50,
     "metadata": {},
     "output_type": "execute_result"
    }
   ],
   "source": [
    "housing = strats[1].copy();\n",
    "housing.addColumns( \n",
    "    housing.nCol(\"total_rooms\").divide(housing.nCol(\"households\")).setName(\"rooms_per_household\"),\n",
    "    housing.nCol(\"total_bedrooms\").divide(housing.nCol(\"total_rooms\")).setName(\"bedrooms_per_room\"),\n",
    "    housing.nCol(\"total_bedrooms\").divide(housing.nCol(\"households\")).setName(\"population_per_household\")\n",
    ");\n",
    "housing.dropRowsWithMissingValues();\n",
    "var cols= housing.columnNames();\n",
    "cols.remove(\"median_house_value\");"
   ]
  },
  {
   "cell_type": "code",
   "execution_count": 51,
   "metadata": {},
   "outputs": [],
   "source": [
    "\n",
    "\n"
   ]
  },
  {
   "cell_type": "code",
   "execution_count": 64,
   "metadata": {},
   "outputs": [],
   "source": [
    "import java.text.ParseException;\n",
    "import java.util.List;\n",
    "import java.util.stream.Collectors;\n",
    "import java.util.stream.IntStream;\n",
    "\n",
    "import smile.data.Attribute;\n",
    "import smile.data.AttributeDataset;\n",
    "import smile.data.NominalAttribute;\n",
    "import smile.data.NumericAttribute;\n",
    "import tech.tablesaw.api.ColumnType;\n",
    "import tech.tablesaw.api.NumericColumn;\n",
    "import tech.tablesaw.api.StringColumn;\n",
    "import tech.tablesaw.columns.Column;\n",
    "import tech.tablesaw.table.Relation;\n",
    "\n",
    " class SmileConverter {\n",
    "\n",
    "    private final Relation table;\n",
    "\n",
    "    public SmileConverter(Relation table) {\n",
    "        this.table = table;\n",
    "    }\n",
    "\n",
    "    /**\n",
    "     * Returns a dataset where the response column is numeric. E.g. to be used for a regression\n",
    "     */\n",
    "    public AttributeDataset numericDataset(String responseColName) {\n",
    "        return dataset(\n",
    "            table.numberColumn(responseColName),\n",
    "            AttributeType.NUMERIC,\n",
    "            table.numericColumns().stream().filter(c -> !c.name().equals(responseColName)).collect(Collectors.toList()));\n",
    "    }  \n",
    "\n",
    "    /**\n",
    "     * Returns a dataset where the response column is numeric. E.g. to be used for a regression\n",
    "     */\n",
    "    public AttributeDataset numericDataset(int responseColIndex, int... variablesColIndices) {\n",
    "        return dataset(table.numberColumn(responseColIndex), AttributeType.NUMERIC, table.columns(variablesColIndices));\n",
    "    }  \n",
    "\n",
    "    /**\n",
    "     * Returns a dataset where the response column is numeric. E.g. to be used for a regression\n",
    "     */\n",
    "    public AttributeDataset numericDataset(String responseColName, String... variablesColNames) {\n",
    "        return dataset(table.numberColumn(responseColName), AttributeType.NUMERIC, table.columns(variablesColNames));\n",
    "    }\n",
    "\n",
    "    /**\n",
    "     * Returns a dataset where the response column is nominal. E.g. to be used for a classification\n",
    "     */\n",
    "    public AttributeDataset nominalDataset(String responseColName) {\n",
    "        return dataset(\n",
    "            table.numberColumn(responseColName),\n",
    "            AttributeType.NOMINAL,\n",
    "            table.numericColumns().stream().filter(c -> !c.name().equals(responseColName)).collect(Collectors.toList()));\n",
    "    }  \n",
    "\n",
    "    /**\n",
    "     * Returns a dataset where the response column is nominal. E.g. to be used for a classification\n",
    "     */\n",
    "    public AttributeDataset nominalDataset(int responseColIndex, int... variablesColIndices) {\n",
    "        return dataset(table.numberColumn(responseColIndex), AttributeType.NOMINAL, table.columns(variablesColIndices));\n",
    "    }  \n",
    "\n",
    "    /**\n",
    "     * Returns a dataset where the response column is nominal. E.g. to be used for a classification\n",
    "     */\n",
    "    public AttributeDataset nominalDataset(String responseColName, String... variablesColNames) {\n",
    "        return dataset(table.numberColumn(responseColName), AttributeType.NOMINAL, table.columns(variablesColNames));\n",
    "    }\n",
    "\n",
    "    private AttributeDataset dataset(NumericColumn<?> responseCol, AttributeType type, List<Column<?>> variableCols) {\n",
    "        List<Column<?>> convertedVariableCols = variableCols.stream()\n",
    "            .map(col -> col.type() == ColumnType.STRING ? col : table.nCol(col.name()))\n",
    "            .collect(Collectors.toList());\n",
    "        Attribute responseAttribute = type == AttributeType.NOMINAL\n",
    "            ? colAsNominalAttribute(responseCol) : new NumericAttribute(responseCol.name());\n",
    "        AttributeDataset dataset = new AttributeDataset(table.name(),\n",
    "            convertedVariableCols.stream().map(col -> colAsAttribute(col)).toArray(Attribute[]::new),\n",
    "            responseAttribute);\n",
    "        for (int i = 0; i < responseCol.size(); i++) {\n",
    "            final int r = i;\n",
    "            double[] x = IntStream.range(0, convertedVariableCols.size())\n",
    "                .mapToDouble(c -> getDouble(convertedVariableCols.get(c), dataset.attributes()[c], r))\n",
    "                .toArray();\n",
    "            dataset.add(x, responseCol.getDouble(r));\n",
    "        }\n",
    "        return dataset;\n",
    "    }\n",
    "    \n",
    "    private double getDouble(Column<?> col, Attribute attr, int r) {\n",
    "        if (col.type() == ColumnType.STRING) {\n",
    "            String value = ((StringColumn) col).get(r);\n",
    "            try {\n",
    "                return attr.valueOf(value);\n",
    "            } catch (ParseException e) {\n",
    "                throw new IllegalArgumentException(\"Error converting \" + value + \" to nominal\", e);\n",
    "            }\n",
    "        }\n",
    "        if (col instanceof NumericColumn) {\n",
    "            return ((NumericColumn<?>) col).getDouble(r);\n",
    "        }\n",
    "        throw new IllegalStateException(\"Error converting \" + col.type() + \" column \" + col.name() + \" to Smile\");\n",
    "    }\n",
    "\n",
    "    private Attribute colAsAttribute(Column<?> col) {\n",
    "        return col.type() == ColumnType.STRING ? colAsNominalAttribute(col) : new NumericAttribute(col.name());\n",
    "    }\n",
    "\n",
    "    private NominalAttribute colAsNominalAttribute(Column<?> col) {\n",
    "        Column<?> unique = col.unique();\n",
    "        return new NominalAttribute(col.name(),\n",
    "            unique.mapInto(o -> o.toString(), StringColumn.create(col.name(), unique.size())).asObjectArray());\n",
    "    }\n",
    "\n",
    "    private static enum AttributeType {\n",
    "        NUMERIC,\n",
    "        NOMINAL\n",
    "    }\n",
    "\n",
    "}"
   ]
  },
  {
   "cell_type": "code",
   "execution_count": 65,
   "metadata": {},
   "outputs": [
    {
     "data": {
      "text/plain": [
       "housing.csv Summary\n",
       "\t\tmin\tq1\tmedian\tmean\tq3\tmax\n",
       "longitude\t\t-124.3500\t-121.8000\t-118.5000\t-119.5709\t-118.0100\t-114.3100\n",
       "latitude\t\t32.5400\t33.9300\t34.2500\t35.6307\t37.7200\t41.9200\n",
       "housing_median_age\t\t1.0000\t18.0000\t29.0000\t28.7094\t37.0000\t52.0000\n",
       "total_rooms\t\t2.0000\t1448.0000\t2120.0000\t2626.0374\t3136.0000\t39320.0000\n",
       "total_bedrooms\t\t1.0000\t295.0000\t434.0000\tNaN\t646.0000\t6445.0000\n",
       "population\t\t3.0000\t785.0000\t1164.0000\t1423.6361\t1720.0000\t35682.0000\n",
       "households\t\t1.0000\t280.0000\t409.0000\t498.2729\t601.0000\t6082.0000\n",
       "median_income\t\t0.4999\t2.5625\t3.5368\t3.8709\t4.7422\t15.0001\n",
       "ocean_proximity\t\t0.0000\t0.0000\t1.0000\t0.9269\t1.0000\t4.0000\n",
       "rooms_per_household\t\t0.8889\t4.4363\t5.2332\t5.4329\t6.0560\t141.9091\n",
       "2 more rows..."
      ]
     },
     "execution_count": 65,
     "metadata": {},
     "output_type": "execute_result"
    }
   ],
   "source": [
    "\n",
    "var housingMl = new SmileConverter(housing).numericDataset(\"median_house_value\",cols.toArray(new String[cols.size()]));\n",
    "housingMl.summary();"
   ]
  },
  {
   "cell_type": "code",
   "execution_count": 66,
   "metadata": {},
   "outputs": [],
   "source": [
    "import smile.feature.OneHotEncoder;\n",
    "double[][] x = housingMl.toArray(new double[housingMl.size()][]);\n",
    "double[][] result = new double[housingMl.size()][];\n",
    "var oneHot = new OneHotEncoder(housingMl.attributes());"
   ]
  },
  {
   "cell_type": "code",
   "execution_count": 69,
   "metadata": {},
   "outputs": [
    {
     "data": {
      "text/plain": [
       "17"
      ]
     },
     "metadata": {},
     "output_type": "display_data"
    },
    {
     "data": {
      "text/plain": [
       "12"
      ]
     },
     "metadata": {},
     "output_type": "display_data"
    },
    {
     "data": {
      "text/plain": [
       "a7b7a883-050b-45b0-9042-44f48cf41b33"
      ]
     },
     "execution_count": 69,
     "metadata": {},
     "output_type": "execute_result"
    }
   ],
   "source": [
    "for (int i = 0; i < x.length; i++) {\n",
    "    result[i] = oneHot.feature(x[i]);\n",
    "}\n",
    "display(result[0].length);\n",
    "display(x[0].length);"
   ]
  },
  {
   "cell_type": "code",
   "execution_count": 67,
   "metadata": {},
   "outputs": [
    {
     "data": {
      "text/plain": [
       "6"
      ]
     },
     "metadata": {},
     "output_type": "display_data"
    }
   ],
   "source": [
    "import smile.data.*;\n",
    "\n",
    "var attributes = housingMl.attributes();\n",
    "\n",
    "for (int i = 0, j = 0; j < attributes.length; j++) {\n",
    "            Attribute attribute = attributes[j];\n",
    "            if (attribute instanceof NominalAttribute) {\n",
    "                NominalAttribute nominal = (NominalAttribute) attribute;\n",
    "                display(nominal.size());\n",
    "            } \n",
    "}"
   ]
  },
  {
   "cell_type": "code",
   "execution_count": 74,
   "metadata": {
    "scrolled": true
   },
   "outputs": [
    {
     "data": {
      "text/plain": [
       "[[D@f91e2925]"
      ]
     },
     "execution_count": 74,
     "metadata": {},
     "output_type": "execute_result"
    }
   ],
   "source": [
    "Arrays.asList(result[0]);"
   ]
  },
  {
   "cell_type": "code",
   "execution_count": null,
   "metadata": {},
   "outputs": [],
   "source": []
  }
 ],
 "metadata": {
  "kernelspec": {
   "display_name": "Java",
   "language": "java",
   "name": "java"
  },
  "language_info": {
   "codemirror_mode": "java",
   "file_extension": ".java",
   "mimetype": "text/x-java-source",
   "name": "Java",
   "pygments_lexer": "java",
   "version": "12.0.1+12"
  },
  "toc": {
   "base_numbering": 1,
   "nav_menu": {},
   "number_sections": true,
   "sideBar": true,
   "skip_h1_title": false,
   "title_cell": "Table of Contents",
   "title_sidebar": "Contents",
   "toc_cell": false,
   "toc_position": {
    "height": "calc(100% - 180px)",
    "left": "10px",
    "top": "150px",
    "width": "375px"
   },
   "toc_section_display": true,
   "toc_window_display": true
  }
 },
 "nbformat": 4,
 "nbformat_minor": 2
}
