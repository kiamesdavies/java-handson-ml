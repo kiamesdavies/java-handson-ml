{
 "cells": [
  {
   "cell_type": "markdown",
   "metadata": {},
   "source": [
    "# Chapter 2 – End-to-end Machine Learning project**\n",
    "\n",
    "*Welcome to Machine Learning Housing Corp.! Your task is to predict median house values in Californian districts, given a number of features from these districts Using Java.*\n",
    "\n"
   ]
  },
  {
   "cell_type": "markdown",
   "metadata": {},
   "source": [
    "# Setup"
   ]
  },
  {
   "cell_type": "markdown",
   "metadata": {},
   "source": [
    "First, let's make sure this notebook works well in :"
   ]
  },
  {
   "cell_type": "code",
   "execution_count": 71,
   "metadata": {},
   "outputs": [
    {
     "ename": "CompilationException",
     "evalue": "",
     "output_type": "error",
     "traceback": [
      "\u001b[1m\u001b[30m|   \u001b[1m\u001b[30m\u001b[0m\u001b[1m\u001b[30m\u001b[41m\u001b[0m\u001b[1m\u001b[30m\u001b[0m",
      "\u001b[1m\u001b[31mcannot find symbol\u001b[0m",
      "\u001b[1m\u001b[31m  symbol:   class \u001b[0m",
      "",
      "\u001b[1m\u001b[30m|   \u001b[1m\u001b[30m\u001b[0m\u001b[1m\u001b[30m\u001b[41m\u001b[0m\u001b[1m\u001b[30m\u001b[0m",
      "\u001b[1m\u001b[31mstatic import only from classes and interfaces\u001b[0m",
      ""
     ]
    }
   ],
   "source": [
    "%maven commons-io:commons-io:jar:2.6\n",
    "%maven io.vavr:vavr:jar:0.10.0\n",
    "%maven org.apache.commons:commons-compress:1.18\n",
    "    \n",
    "    \n",
    "import org.apache.commons.io.*;\n",
    "import java.io.*;\n",
    "import io.vavr.control.*;\n",
    "import org.apache.commons.compress.archivers.tar.TarArchiveInputStream;\n",
    "import org.apache.commons.compress.compressors.gzip.GzipCompressorInputStream;\n",
    "\n",
    "var DOWNLOAD_ROOT = \"https://raw.githubusercontent.com/ageron/handson-ml/master/\";\n",
    "var HOUSING_URL = DOWNLOAD_ROOT + \"datasets/housing/housing.tgz\";\n",
    "var PROJECT_ROOT_DIR = \".\";\n",
    "var CHAPTER_ID = \"end_to_end_project\";\n",
    "var HOUSING_PATH = FilenameUtils.concat(\"datasets\", \"housing\");\n",
    "var BUFFER_SIZE = 1024;\n",
    "\n",
    "void fetch_housing_data(String housingUrl, File housingPath){\n",
    "   housingUrl = Objects.toString(housingUrl,HOUSING_URL);\n",
    "   Objects.requireNonNull(housingPath);\n",
    "   if(!housingPath.exists()){\n",
    "       Try.run(() -> FileUtils.forceMkdir(housingPath));\n",
    "   }\n",
    "   var tgzPath = new File(FilenameUtils.concat(housingPath.getPath(), \"housing.tgz\"));\n",
    "   var urlTemp = housingUrl;\n",
    "   Try.run(() -> FileUtils.copyURLToFile(new URL(urlTemp), tgzPath )); \n",
    "   Try.run(() -> extractTarGZ(tgzPath, housingPath) );\n",
    "}\n",
    "\n",
    "void extractTarGZ(File in, File destDir) throws exception {\n",
    "    GzipCompressorInputStream gzipIn = new GzipCompressorInputStream(new FileInputStream(in));\n",
    "    try (TarArchiveInputStream tarIn = new TarArchiveInputStream(gzipIn)) {\n",
    "        TarArchiveEntry entry;\n",
    "\n",
    "        while ((entry = (TarArchiveEntry) tarIn.getNextEntry()) != null) {\n",
    "            /** If the entry is a directory, create the directory. **/\n",
    "            if (entry.isDirectory()) {\n",
    "                File f = new File(FilenameUtils.concat(destDir.getPath(),entry.getName()));\n",
    "                boolean created = f.mkdir();\n",
    "                if (!created) {\n",
    "                    System.out.printf(\"Unable to create directory '%s', during extraction of archive contents.\\n\",\n",
    "                            f.getAbsolutePath());\n",
    "                }\n",
    "            } else {\n",
    "                int count;\n",
    "                byte data[] = new byte[BUFFER_SIZE];\n",
    "                FileOutputStream fos = new FileOutputStream(FilenameUtils.concat(destDir.getPath(),entry.getName()), false);\n",
    "                try (BufferedOutputStream dest = new BufferedOutputStream(fos, BUFFER_SIZE)) {\n",
    "                    while ((count = tarIn.read(data, 0, BUFFER_SIZE)) != -1) {\n",
    "                        dest.write(data, 0, count);\n",
    "                    }\n",
    "                }\n",
    "            }\n",
    "        }\n",
    "\n",
    "    }\n",
    "}"
   ]
  },
  {
   "cell_type": "code",
   "execution_count": 30,
   "metadata": {},
   "outputs": [
    {
     "ename": "UnresolvedReferenceException",
     "evalue": "Attempt to use definition snippet with unresolved references in MethodSnippet:fetch_housing_data/(String,File)void-\n\n\nvoid fetch_housing_data(String housingUrl,File housingPath){\n   housingUrl = Objects.toString(housingUrl,HOUSING_URL);\n   Objects.requireNonNull(housingPath);\n   if(!housingPath.exists()){\n       Try.run(() -> FileUtils.forceMkdir(housingPath));\n   }\n   var tgzPath = new File(FilenameUtils.concat(housingPath.getPath(), \"housing.tgz\"));\n   FileUtils.copyURLToFile(Try.of(() -> new URL(housingUrl)).get(), tgzPath );\n   final TarGZipUnArchiver ua = new TarGZipUnArchiver();\n    // Logging - as @Akom noted, logging is mandatory in newer versions, so you can use a code like this to configure it:\n    ConsoleLoggerManager manager = new ConsoleLoggerManager();\n    manager.initialize();\n    ua.enableLogging(manager.getLoggerForComponent(\"bla\"));\n    // -- end of logging part\n    ua.setSourceFile(tgzPath);\n    destDir.mkdirs();\n    ua.setDestDirectory(housingPath);\n    ua.extract();\n}",
     "output_type": "error",
     "traceback": [
      "\u001b[1m\u001b[30m|   \u001b[1m\u001b[30m\u001b[0m",
      "\u001b[1m\u001b[30m|   \u001b[1m\u001b[30m\u001b[0m",
      "\u001b[1m\u001b[30m|   \u001b[1m\u001b[30m\u001b[0m",
      "\u001b[1m\u001b[30m|   \u001b[1m\u001b[30mvoid fetch_housing_data(String housingUrl,File housingPath){\u001b[0m",
      "\u001b[1m\u001b[30m|   \u001b[1m\u001b[30m   housingUrl = Objects.toString(housingUrl,HOUSING_URL);\u001b[0m",
      "\u001b[1m\u001b[30m|   \u001b[1m\u001b[30m   Objects.requireNonNull(housingPath);\u001b[0m",
      "\u001b[1m\u001b[30m|   \u001b[1m\u001b[30m   if(!housingPath.exists()){\u001b[0m",
      "\u001b[1m\u001b[30m|   \u001b[1m\u001b[30m       Try.run(() -> FileUtils.forceMkdir(housingPath));\u001b[0m",
      "\u001b[1m\u001b[30m|   \u001b[1m\u001b[30m   }\u001b[0m",
      "\u001b[1m\u001b[30m|   \u001b[1m\u001b[30m   var tgzPath = new File(FilenameUtils.concat(housingPath.getPath(), \"housing.tgz\"));\u001b[0m",
      "\u001b[1m\u001b[30m|   \u001b[1m\u001b[30m   FileUtils.copyURLToFile(Try.of(() -> new URL(housingUrl)).get(), tgzPath );\u001b[0m",
      "\u001b[1m\u001b[30m|   \u001b[1m\u001b[30m   final TarGZipUnArchiver ua = new TarGZipUnArchiver();\u001b[0m",
      "\u001b[1m\u001b[30m|   \u001b[1m\u001b[30m    // Logging - as @Akom noted, logging is mandatory in newer versions, so you can use a code like this to configure it:\u001b[0m",
      "\u001b[1m\u001b[30m|   \u001b[1m\u001b[30m    ConsoleLoggerManager manager = new ConsoleLoggerManager();\u001b[0m",
      "\u001b[1m\u001b[30m|   \u001b[1m\u001b[30m    manager.initialize();\u001b[0m",
      "\u001b[1m\u001b[30m|   \u001b[1m\u001b[30m    ua.enableLogging(manager.getLoggerForComponent(\"bla\"));\u001b[0m",
      "\u001b[1m\u001b[30m|   \u001b[1m\u001b[30m    // -- end of logging part\u001b[0m",
      "\u001b[1m\u001b[30m|   \u001b[1m\u001b[30m    ua.setSourceFile(tgzPath);\u001b[0m",
      "\u001b[1m\u001b[30m|   \u001b[1m\u001b[30m    destDir.mkdirs();\u001b[0m",
      "\u001b[1m\u001b[30m|   \u001b[1m\u001b[30m    ua.setDestDirectory(housingPath);\u001b[0m",
      "\u001b[1m\u001b[30m|   \u001b[1m\u001b[30m    ua.extract();\u001b[0m",
      "\u001b[1m\u001b[30m|   \u001b[1m\u001b[30m}\u001b[0m",
      "\u001b[1m\u001b[31mUnresolved dependencies:\u001b[0m",
      "\u001b[1m\u001b[31m   - variable Try\u001b[0m",
      "\u001b[1m\u001b[31m   - class TarGZipUnArchiver\u001b[0m",
      "\u001b[1m\u001b[31m   - class ConsoleLoggerManager\u001b[0m",
      "\u001b[1m\u001b[31m   - variable destDir\u001b[0m"
     ]
    }
   ],
   "source": [
    "fetch_housing_data(HOUSING_URL, new File(HOUSING_PATH));"
   ]
  }
 ],
 "metadata": {
  "kernelspec": {
   "display_name": "Java",
   "language": "java",
   "name": "java"
  },
  "language_info": {
   "codemirror_mode": "java",
   "file_extension": ".java",
   "mimetype": "text/x-java-source",
   "name": "Java",
   "pygments_lexer": "java",
   "version": "11.0.2+9-LTS"
  },
  "toc": {
   "base_numbering": 1,
   "nav_menu": {},
   "number_sections": true,
   "sideBar": true,
   "skip_h1_title": false,
   "title_cell": "Table of Contents",
   "title_sidebar": "Contents",
   "toc_cell": false,
   "toc_position": {
    "height": "calc(100% - 180px)",
    "left": "10px",
    "top": "150px",
    "width": "375px"
   },
   "toc_section_display": true,
   "toc_window_display": true
  }
 },
 "nbformat": 4,
 "nbformat_minor": 2
}
