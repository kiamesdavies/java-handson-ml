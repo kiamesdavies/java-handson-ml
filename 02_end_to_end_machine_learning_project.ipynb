{
 "cells": [
  {
   "cell_type": "markdown",
   "metadata": {},
   "source": [
    "# Chapter 2 – End-to-end Machine Learning project**\n",
    "\n",
    "*Welcome to Machine Learning Housing Corp.! Your task is to predict median house values in Californian districts, given a number of features from these districts Using Java.*\n",
    "\n"
   ]
  },
  {
   "cell_type": "markdown",
   "metadata": {},
   "source": [
    "# Setup"
   ]
  },
  {
   "cell_type": "markdown",
   "metadata": {},
   "source": [
    "First, let's make sure this notebook works well in :"
   ]
  },
  {
   "cell_type": "code",
   "execution_count": 42,
   "metadata": {},
   "outputs": [],
   "source": [
    "%maven commons-io:commons-io:jar:2.6\n",
    "%maven io.vavr:vavr:jar:0.10.0\n",
    "%maven org.apache.commons:commons-compress:1.18\n",
    "%maven tech.tablesaw:tablesaw-core:jar:0.32.7\n",
    "%maven tech.tablesaw:tablesaw-jsplot:jar:0.32.7   \n",
    "%maven nz.ac.waikato.cms.weka:weka-stable:jar:3.8.3\n",
    "%maven nz.ac.waikato.cms.weka:wekaDeeplearning4j:jar:1.5.13\n",
    "    \n",
    "    \n",
    "import org.apache.commons.io.*;\n",
    "import java.io.*;\n",
    "import io.vavr.control.*;\n",
    "import org.apache.commons.compress.archivers.tar.*;\n",
    "import org.apache.commons.compress.compressors.gzip.*;\n",
    "\n",
    "var DOWNLOAD_ROOT = \"https://raw.githubusercontent.com/ageron/handson-ml/master/\";\n",
    "var HOUSING_URL = DOWNLOAD_ROOT + \"datasets/housing/housing.tgz\";\n",
    "var PROJECT_ROOT_DIR = \".\";\n",
    "var CHAPTER_ID = \"end_to_end_project\";\n",
    "var HOUSING_PATH = FilenameUtils.concat(\"datasets\", \"housing\");\n",
    "var BUFFER_SIZE = 1024;\n",
    "void fetch_housing_data(String housingUrl, File housingPath){\n",
    "   housingUrl = Objects.toString(housingUrl,HOUSING_URL);\n",
    "   Objects.requireNonNull(housingPath);\n",
    "   if(!housingPath.exists()){\n",
    "       Try.run(() -> FileUtils.forceMkdir(housingPath));\n",
    "   }\n",
    "   var tgzPath = new File(FilenameUtils.concat(housingPath.getPath(), \"housing.tgz\"));\n",
    "   var urlTemp = housingUrl;\n",
    "   Try.run(() -> FileUtils.copyURLToFile(new URL(urlTemp), tgzPath )); \n",
    "   Try.run(() -> extractTarGZ(tgzPath, housingPath) );\n",
    "}\n",
    "\n",
    "void extractTarGZ(File in, File destDir) throws Exception {\n",
    "    GzipCompressorInputStream gzipIn = new GzipCompressorInputStream(new FileInputStream(in));\n",
    "    try (TarArchiveInputStream tarIn = new TarArchiveInputStream(gzipIn)) {\n",
    "        TarArchiveEntry entry;\n",
    "\n",
    "        while ((entry = (TarArchiveEntry) tarIn.getNextEntry()) != null) {\n",
    "            /** If the entry is a directory, create the directory. **/\n",
    "            if (entry.isDirectory()) {\n",
    "                File f = new File(FilenameUtils.concat(destDir.getPath(),entry.getName()));\n",
    "                boolean created = f.mkdir();\n",
    "                if (!created) {\n",
    "                    System.out.printf(\"Unable to create directory '%s', during extraction of archive contents.\\n\",\n",
    "                            f.getAbsolutePath());\n",
    "                }\n",
    "            } else {\n",
    "                int count;\n",
    "                byte data[] = new byte[BUFFER_SIZE];\n",
    "                FileOutputStream fos = new FileOutputStream(FilenameUtils.concat(destDir.getPath(),entry.getName()), false);\n",
    "                try (BufferedOutputStream dest = new BufferedOutputStream(fos, BUFFER_SIZE)) {\n",
    "                    while ((count = tarIn.read(data, 0, BUFFER_SIZE)) != -1) {\n",
    "                        dest.write(data, 0, count);\n",
    "                    }\n",
    "                }\n",
    "            }\n",
    "        }\n",
    "\n",
    "    }\n",
    "}\n"
   ]
  },
  {
   "cell_type": "code",
   "execution_count": 43,
   "metadata": {},
   "outputs": [],
   "source": [
    "//fetch_housing_data(HOUSING_URL, new File(HOUSING_PATH));"
   ]
  },
  {
   "cell_type": "code",
   "execution_count": 44,
   "metadata": {},
   "outputs": [],
   "source": [
    "import tech.tablesaw.api.Table;\n",
    "\n",
    "Table load_housing_data(File housingPathCsv){\n",
    " return Try.of(() ->Table.read().csv(housingPathCsv)).get();\n",
    "}\n"
   ]
  },
  {
   "cell_type": "code",
   "execution_count": 45,
   "metadata": {},
   "outputs": [
    {
     "data": {
      "text/plain": [
       "                                                                                  housing.csv                                                                                  \n",
       " longitude  |  latitude  |  housing_median_age  |  total_rooms  |  total_bedrooms  |  population  |  households  |  median_income  |  median_house_value  |  ocean_proximity  |\n",
       "-------------------------------------------------------------------------------------------------------------------------------------------------------------------------------\n",
       "   -122.23  |     37.88  |                  41  |          880  |             129  |         322  |         126  |         8.3252  |              452600  |         NEAR BAY  |\n",
       "   -122.22  |     37.86  |                  21  |         7099  |            1106  |        2401  |        1138  |         8.3014  |              358500  |         NEAR BAY  |\n",
       "   -122.24  |     37.85  |                  52  |         1467  |             190  |         496  |         177  |         7.2574  |              352100  |         NEAR BAY  |\n",
       "   -122.25  |     37.85  |                  52  |         1274  |             235  |         558  |         219  |         5.6431  |              341300  |         NEAR BAY  |"
      ]
     },
     "execution_count": 45,
     "metadata": {},
     "output_type": "execute_result"
    }
   ],
   "source": [
    "\n",
    "var housing = load_housing_data(new File(FilenameUtils.concat(HOUSING_PATH,\"housing.csv\")));\n",
    "housing.first(4);"
   ]
  },
  {
   "cell_type": "code",
   "execution_count": 46,
   "metadata": {},
   "outputs": [
    {
     "data": {
      "text/plain": [
       "            Structure of housing.csv            \n",
       " Index  |     Column Name      |  Column Type  |\n",
       "------------------------------------------------\n",
       "     0  |           longitude  |       DOUBLE  |\n",
       "     1  |            latitude  |       DOUBLE  |\n",
       "     2  |  housing_median_age  |      INTEGER  |\n",
       "     3  |         total_rooms  |      INTEGER  |\n",
       "     4  |      total_bedrooms  |      INTEGER  |\n",
       "     5  |          population  |      INTEGER  |\n",
       "     6  |          households  |      INTEGER  |\n",
       "     7  |       median_income  |       DOUBLE  |\n",
       "     8  |  median_house_value  |      INTEGER  |\n",
       "     9  |     ocean_proximity  |       STRING  |"
      ]
     },
     "metadata": {},
     "output_type": "display_data"
    },
    {
     "data": {
      "text/plain": [
       "20640 rows X 10 cols"
      ]
     },
     "metadata": {},
     "output_type": "display_data"
    },
    {
     "data": {
      "text/plain": [
       "\n",
       "Table summary for: housing.csv\n",
       "         Column: longitude          \n",
       " Measure   |         Value         |\n",
       "------------------------------------\n",
       "        n  |              20640.0  |\n",
       "      sum  |   -2467918.699999941  |\n",
       "     Mean  |  -119.56970445736455  |\n",
       "      Min  |              -124.35  |\n",
       "      Max  |              -114.31  |\n",
       "    Range  |   10.039999999999992  |\n",
       " Variance  |    4.014139367081234  |\n",
       " Std. Dev  |    2.003531723502584  |\n",
       "         Column: latitude         \n",
       " Measure   |        Value        |\n",
       "----------------------------------\n",
       "        n  |            20640.0  |\n",
       "      sum  |  735441.6200000036  |\n",
       "     Mean  |  35.63186143410859  |\n",
       "      Min  |              32.54  |\n",
       "      Max  |              41.95  |\n",
       "    Range  |  9.410000000000004  |\n",
       " Variance  |  4.562292644202738  |\n",
       " Std. Dev  |  2.135952397457101  |\n",
       "    Column: housing_median_age     \n",
       " Measure   |        Value         |\n",
       "-----------------------------------\n",
       "        n  |             20640.0  |\n",
       "      sum  |            591119.0  |\n",
       "     Mean  |  28.639486434108502  |\n",
       "      Min  |                 1.0  |\n",
       "      Max  |                52.0  |\n",
       "    Range  |                51.0  |\n",
       " Variance  |    158.396260407781  |\n",
       " Std. Dev  |   12.58555761211163  |\n",
       "        Column: total_rooms        \n",
       " Measure   |        Value         |\n",
       "-----------------------------------\n",
       "        n  |             20640.0  |\n",
       "      sum  |          5.440215E7  |\n",
       "     Mean  |   2635.763081395356  |\n",
       "      Min  |                 2.0  |\n",
       "      Max  |             39320.0  |\n",
       "    Range  |             39318.0  |\n",
       " Variance  |    4759445.10593866  |\n",
       " Std. Dev  |  2181.6152515827944  |\n",
       " Column: total_bedrooms \n",
       " Measure   |   Value   |\n",
       "------------------------\n",
       "        n  |  20640.0  |\n",
       "      sum  |           |\n",
       "     Mean  |           |\n",
       "      Min  |      1.0  |\n",
       "      Max  |   6445.0  |\n",
       "    Range  |   6444.0  |\n",
       " Variance  |           |\n",
       " Std. Dev  |           |\n",
       "        Column: population         \n",
       " Measure   |        Value         |\n",
       "-----------------------------------\n",
       "        n  |             20640.0  |\n",
       "      sum  |          2.942184E7  |\n",
       "     Mean  |  1425.4767441860452  |\n",
       "      Min  |                 3.0  |\n",
       "      Max  |             35682.0  |\n",
       "    Range  |             35679.0  |\n",
       " Variance  |  1282470.4572332557  |\n",
       " Std. Dev  |    1132.46212176534  |\n",
       "        Column: households         \n",
       " Measure   |        Value         |\n",
       "-----------------------------------\n",
       "        n  |             20640.0  |\n",
       "      sum  |         1.0310499E7  |\n",
       "     Mean  |  499.53968023255766  |\n",
       "      Min  |                 1.0  |\n",
       "      Max  |              6082.0  |\n",
       "    Range  |              6081.0  |\n",
       " Variance  |  146176.03990027987  |\n",
       " Std. Dev  |   382.3297528316098  |\n",
       "       Column: median_income       \n",
       " Measure   |        Value         |\n",
       "-----------------------------------\n",
       "        n  |             20640.0  |\n",
       "      sum  |   79890.64950000099  |\n",
       "     Mean  |  3.8706710029069904  |\n",
       "      Min  |              0.4999  |\n",
       "      Max  |             15.0001  |\n",
       "    Range  |             14.5002  |\n",
       " Variance  |    3.60932255997649  |\n",
       " Std. Dev  |   1.899821717945263  |\n",
       "      Column: median_house_value      \n",
       " Measure   |          Value          |\n",
       "--------------------------------------\n",
       "        n  |                20640.0  |\n",
       "      sum  |          4.269504061E9  |\n",
       "     Mean  |     206855.81690891646  |\n",
       "      Min  |                14999.0  |\n",
       "      Max  |               500001.0  |\n",
       "    Range  |               485002.0  |\n",
       " Variance  |  1.3316148163035213E10  |\n",
       " Std. Dev  |     115395.61587441359  |\n",
       "Column: ocean_proximity \n",
       "  Category   |  Count  |\n",
       "------------------------\n",
       "     ISLAND  |      5  |\n",
       " NEAR OCEAN  |   2658  |\n",
       "   NEAR BAY  |   2290  |\n",
       "     INLAND  |   6551  |\n",
       "  <1H OCEAN  |   9136  |\n",
       "\n"
      ]
     },
     "metadata": {},
     "output_type": "display_data"
    },
    {
     "data": {
      "text/plain": [
       "1153b47a-cefb-4b12-bf57-ff2d8bf185aa"
      ]
     },
     "execution_count": 46,
     "metadata": {},
     "output_type": "execute_result"
    }
   ],
   "source": [
    "//planning to replicate housing.info()\n",
    "display(housing.structure());\n",
    "display(housing.shape());\n",
    "display(housing.summary());"
   ]
  },
  {
   "cell_type": "code",
   "execution_count": 47,
   "metadata": {},
   "outputs": [
    {
     "data": {
      "text/plain": [
       "Column: ocean_proximity \n",
       "  Category   |  Count  |\n",
       "------------------------\n",
       "     ISLAND  |      5  |\n",
       " NEAR OCEAN  |   2658  |\n",
       "   NEAR BAY  |   2290  |\n",
       "     INLAND  |   6551  |\n",
       "  <1H OCEAN  |   9136  |"
      ]
     },
     "execution_count": 47,
     "metadata": {},
     "output_type": "execute_result"
    }
   ],
   "source": [
    "housing.xTabCounts(\"ocean_proximity\")"
   ]
  },
  {
   "cell_type": "code",
   "execution_count": 48,
   "metadata": {
    "scrolled": true
   },
   "outputs": [],
   "source": [
    "\n",
    "\n",
    "import tech.tablesaw.plotly.components.Figure;\n",
    "import tech.tablesaw.plotly.components.Layout;\n",
    "import tech.tablesaw.plotly.api.Histogram;  \n",
    "import tech.tablesaw.plotly.Plot;\n",
    "import javax.imageio.ImageIO;\n",
    "import java.io.File;\n",
    "import java.io.FileOutputStream;\n",
    "import java.io.IOException;\n",
    "import java.nio.file.Files;\n",
    "import java.nio.file.Path;\n",
    "import java.nio.file.Paths;\n",
    "import java.util.UUID;\n",
    "import tech.tablesaw.plotly.components.Page;\n",
    "\n",
    "void renderPlotly(Figure fig){\n",
    "    Page page = Page.pageBuilder(fig, \"target\").build();\n",
    "    display(page.asJavascript(),\"text/html\");\n",
    "}\n",
    "\n",
    "//renderPlotly(Histogram.create(\"Distribution of total_rooms\", housing, \"total_rooms\"));\n",
    "\n",
    "// housing.numericColumns().forEach(f ->{\n",
    "//          HistogramTrace trace = HistogramTrace.builder(f.asDoubleArray()).build();\n",
    "//          Plot.show(new Figure(Layout.builder(f.name()).build(), trace));\n",
    "        \n",
    "// });\n"
   ]
  },
  {
   "cell_type": "markdown",
   "metadata": {},
   "source": [
    "# Preparing for stratified sampling\n",
    "*I have skipped random sampling in the book*"
   ]
  },
  {
   "cell_type": "code",
   "execution_count": 49,
   "metadata": {},
   "outputs": [
    {
     "data": {
      "text/plain": [
       "                                                                                         housing.csv                                                                                          \n",
       " longitude  |  latitude  |  housing_median_age  |  total_rooms  |  total_bedrooms  |  population  |  households  |  median_income  |  median_house_value  |  ocean_proximity  |  income_cat  |\n",
       "----------------------------------------------------------------------------------------------------------------------------------------------------------------------------------------------\n",
       "   -122.23  |     37.88  |                  41  |          880  |             129  |         322  |         126  |         8.3252  |              452600  |         NEAR BAY  |         5.0  |\n",
       "   -122.22  |     37.86  |                  21  |         7099  |            1106  |        2401  |        1138  |         8.3014  |              358500  |         NEAR BAY  |         5.0  |"
      ]
     },
     "execution_count": 49,
     "metadata": {},
     "output_type": "execute_result"
    }
   ],
   "source": [
    "import java.util.function.ToDoubleFunction;\n",
    "var incomeCat = housing.doubleColumn(\"median_income\").map((ToDoubleFunction<Double>) f -> Math.ceil(f/1.5)).map((ToDoubleFunction<Double>)cat -> cat > 5 ? 5: cat );\n",
    "housing.addColumns(incomeCat.setName(\"income_cat\"));\n",
    "housing.first(2)"
   ]
  },
  {
   "cell_type": "code",
   "execution_count": 50,
   "metadata": {
    "scrolled": true
   },
   "outputs": [
    {
     "data": {
      "text/plain": [
       "16513 rows X 10 cols"
      ]
     },
     "metadata": {},
     "output_type": "display_data"
    },
    {
     "data": {
      "text/plain": [
       "4127 rows X 10 cols"
      ]
     },
     "metadata": {},
     "output_type": "display_data"
    },
    {
     "data": {
      "text/plain": [
       "                                      housing.csv summary                                       \n",
       " Mean [median_income]  |  Count [median_income]  |   Mean [longitude]    |  Count [longitude]  |\n",
       "------------------------------------------------------------------------------------------------\n",
       "    3.879343397140783  |                 4127.0  |  -119.57728616428399  |             4127.0  |"
      ]
     },
     "metadata": {},
     "output_type": "display_data"
    },
    {
     "data": {
      "text/plain": [
       "                                      housing.csv summary                                       \n",
       " Mean [median_income]  |  Count [median_income]  |   Mean [longitude]    |  Count [longitude]  |\n",
       "------------------------------------------------------------------------------------------------\n",
       "   3.8685035608308733  |                16513.0  |  -119.56780960455399  |            16513.0  |"
      ]
     },
     "execution_count": 50,
     "metadata": {},
     "output_type": "execute_result"
    }
   ],
   "source": [
    "import tech.tablesaw.api.CategoricalColumn;\n",
    "import tech.tablesaw.columns.Column;\n",
    "import static tech.tablesaw.aggregate.AggregateFunctions.*;\n",
    "Table[] stratifiedSampleSplit(Table table, String column, double table1Proportion){\n",
    "    final Table first = table.emptyCopy();\n",
    "    final Table second = table.emptyCopy();\n",
    "    String categoricalColumn = column;\n",
    "    Column<?> col = table.column(column);\n",
    "    if(!CategoricalColumn.class.isInstance(col)){\n",
    "        categoricalColumn += \"_stringified\";\n",
    "        table.addColumns(col.asStringColumn().setName(categoricalColumn));\n",
    "    }\n",
    "    table.splitOn(categoricalColumn).asTableList().forEach(tab-> {\n",
    "       Table[] splits = tab.sampleSplit(table1Proportion); \n",
    "        first.append(splits[0]);\n",
    "        second.append(splits[1]);\n",
    "    });\n",
    "    if(!categoricalColumn.equals(column)){\n",
    "        table.removeColumns(table.column(categoricalColumn));\n",
    "    }\n",
    "    return new Table[]{first, second};\n",
    "}\n",
    "\n",
    "var strats = stratifiedSampleSplit(housing,\"income_cat\", 0.2);\n",
    "strats[1].removeColumns(strats[1].column(\"income_cat\"));\n",
    "strats[0].removeColumns(strats[0].column(\"income_cat\"));\n",
    "display(strats[1].shape());\n",
    "display(strats[0].shape());\n",
    "display(strats[0].summarize(\"longitude\",\"median_income\", mean, count).apply());\n",
    "strats[1].summarize(\"longitude\",\"median_income\", mean, count).apply();\n"
   ]
  },
  {
   "cell_type": "markdown",
   "metadata": {},
   "source": [
    "# Discover and visualize the data to gain insights"
   ]
  },
  {
   "cell_type": "markdown",
   "metadata": {},
   "source": [
    "**skipped for now"
   ]
  },
  {
   "cell_type": "code",
   "execution_count": 51,
   "metadata": {},
   "outputs": [
    {
     "data": {
      "text/plain": [
       "16513 rows X 10 cols"
      ]
     },
     "execution_count": 51,
     "metadata": {},
     "output_type": "execute_result"
    }
   ],
   "source": [
    "housing = strats[1].copy();\n",
    "housing.shape();"
   ]
  },
  {
   "cell_type": "markdown",
   "metadata": {},
   "source": [
    "**Tablesaw  doesn handle missing values very well so we will set missing values to 0"
   ]
  },
  {
   "cell_type": "code",
   "execution_count": 52,
   "metadata": {},
   "outputs": [
    {
     "data": {
      "text/plain": [
       "                                                                                                                                                                   housing.csv summary                                                                                                                                                                   \n",
       " Missing Values [housing_median_age]  |  Missing Values [median_income]  |  Missing Values [latitude]  |  Missing Values [median_house_value]  |  Missing Values [ocean_proximity]  |  Missing Values [total_rooms]  |  Missing Values [households]  |  Missing Values [total_bedrooms]  |  Missing Values [longitude]  |  Missing Values [population]  |\n",
       "---------------------------------------------------------------------------------------------------------------------------------------------------------------------------------------------------------------------------------------------------------------------------------------------------------------------------------------------------------\n",
       "                                 0.0  |                             0.0  |                        0.0  |                                  0.0  |                               0.0  |                           0.0  |                          0.0  |                            173.0  |                         0.0  |                          0.0  |"
      ]
     },
     "execution_count": 52,
     "metadata": {},
     "output_type": "execute_result"
    }
   ],
   "source": [
    "housing.missingValueCounts();"
   ]
  },
  {
   "cell_type": "code",
   "execution_count": 53,
   "metadata": {},
   "outputs": [
    {
     "data": {
      "text/plain": [
       "                             housing.csv summary                             \n",
       " Mean [total_bedrooms]  |  Sum [total_bedrooms]  |  Count [total_bedrooms]  |\n",
       "-----------------------------------------------------------------------------\n",
       "     532.2989160055724  |             8789852.0  |                 16513.0  |"
      ]
     },
     "execution_count": 53,
     "metadata": {},
     "output_type": "execute_result"
    }
   ],
   "source": [
    "var tBRoom = housing.intColumn(\"total_bedrooms\");\n",
    "housing.replaceColumn(\"total_bedrooms\",tBRoom.set(tBRoom.isMissing(),0));\n",
    "var summarizer = housing.summarize(\"total_bedrooms\", mean, sum, count).apply();\n",
    "summarizer"
   ]
  },
  {
   "cell_type": "code",
   "execution_count": 54,
   "metadata": {},
   "outputs": [
    {
     "data": {
      "text/plain": [
       "                                                                                                                                                                   housing.csv summary                                                                                                                                                                   \n",
       " Missing Values [housing_median_age]  |  Missing Values [median_income]  |  Missing Values [latitude]  |  Missing Values [median_house_value]  |  Missing Values [ocean_proximity]  |  Missing Values [total_rooms]  |  Missing Values [households]  |  Missing Values [total_bedrooms]  |  Missing Values [longitude]  |  Missing Values [population]  |\n",
       "---------------------------------------------------------------------------------------------------------------------------------------------------------------------------------------------------------------------------------------------------------------------------------------------------------------------------------------------------------\n",
       "                                 0.0  |                             0.0  |                        0.0  |                                  0.0  |                               0.0  |                           0.0  |                          0.0  |                              0.0  |                         0.0  |                          0.0  |"
      ]
     },
     "execution_count": 54,
     "metadata": {},
     "output_type": "execute_result"
    }
   ],
   "source": [
    "housing.missingValueCounts();"
   ]
  },
  {
   "cell_type": "markdown",
   "metadata": {},
   "source": [
    "**lets save the mean because we will need it later"
   ]
  },
  {
   "cell_type": "code",
   "execution_count": 55,
   "metadata": {},
   "outputs": [
    {
     "data": {
      "text/plain": [
       "532.2989160055724"
      ]
     },
     "execution_count": 55,
     "metadata": {},
     "output_type": "execute_result"
    }
   ],
   "source": [
    "var totalBedroomsMean = summarizer.column(0).get(0);\n",
    "totalBedroomsMean;"
   ]
  },
  {
   "cell_type": "markdown",
   "metadata": {},
   "source": [
    "**Looking for correlation"
   ]
  },
  {
   "cell_type": "code",
   "execution_count": 56,
   "metadata": {},
   "outputs": [
    {
     "data": {
      "text/plain": [
       "[(latitude, -0.15057677836355435), (longitude, -0.038404506216789674), (population, -0.02288331529098258), (total_bedrooms, 0.05065901579270411), (households, 0.06801785534914913), (housing_median_age, 0.10503576944407318), (total_rooms, 0.13464004326853155), (median_income, 0.6863969572461165), (median_house_value, 1.0)]"
      ]
     },
     "execution_count": 56,
     "metadata": {},
     "output_type": "execute_result"
    }
   ],
   "source": [
    "import java.util.stream.*;\n",
    "import org.apache.commons.math3.stat.correlation.PearsonsCorrelation;\n",
    "import io.vavr.Tuple;  \n",
    "\n",
    "var medianVector  = housing.intColumn(\"median_house_value\").asDoubleColumn();\n",
    "\n",
    "var corr = new PearsonsCorrelation();\n",
    "housing.numericColumns().stream()\n",
    "    .map(i -> Tuple.of(i.name(),corr.correlation( i.asDoubleArray(), medianVector.asDoubleArray() )))\n",
    "    .sorted((a, b) -> {\n",
    "        int c = 0;\n",
    "        if( a._2 == Double.NaN  && b._2 == Double.NaN ){\n",
    "            c = 0;\n",
    "        }\n",
    "        else if(b._2 == Double.NaN || a._2 > b._2){\n",
    "            c = 1;\n",
    "        }\n",
    "        else if(a._2 == Double.NaN ||a._2 < b._2){\n",
    "            c = -1;\n",
    "        }\n",
    "        \n",
    "        return c;\n",
    "    })\n",
    "    .collect(Collectors.toList());"
   ]
  },
  {
   "cell_type": "markdown",
   "metadata": {},
   "source": [
    "**Plot Pandas correlation later"
   ]
  },
  {
   "cell_type": "code",
   "execution_count": null,
   "metadata": {},
   "outputs": [],
   "source": []
  },
  {
   "cell_type": "code",
   "execution_count": 57,
   "metadata": {},
   "outputs": [
    {
     "data": {
      "text/plain": [
       "\n",
       "Table summary for: housing.csv\n",
       "         Column: longitude          \n",
       " Measure   |         Value         |\n",
       "------------------------------------\n",
       "        n  |              16513.0  |\n",
       "      sum  |  -1974423.2399999753  |\n",
       "     Mean  |  -119.56780960455335  |\n",
       "      Min  |               -124.3  |\n",
       "      Max  |              -114.31  |\n",
       "    Range  |    9.989999999999995  |\n",
       " Variance  |    4.019445002022454  |\n",
       " Std. Dev  |   2.0048553568829983  |\n",
       "         Column: latitude          \n",
       " Measure   |        Value         |\n",
       "-----------------------------------\n",
       "        n  |             16513.0  |\n",
       "      sum  |   588376.7100000009  |\n",
       "     Mean  |  35.631121540604326  |\n",
       "      Min  |               32.54  |\n",
       "      Max  |               41.95  |\n",
       "    Range  |   9.410000000000004  |\n",
       " Variance  |   4.591721828310808  |\n",
       " Std. Dev  |  2.1428303312000248  |\n",
       "    Column: housing_median_age     \n",
       " Measure   |        Value         |\n",
       "-----------------------------------\n",
       "        n  |             16513.0  |\n",
       "      sum  |            472668.0  |\n",
       "     Mean  |   28.62399321746501  |\n",
       "      Min  |                 1.0  |\n",
       "      Max  |                52.0  |\n",
       "    Range  |                51.0  |\n",
       " Variance  |  159.28115151933366  |\n",
       " Std. Dev  |  12.620663671904646  |\n",
       "        Column: total_rooms        \n",
       " Measure   |        Value         |\n",
       "-----------------------------------\n",
       "        n  |             16513.0  |\n",
       "      sum  |         4.3498757E7  |\n",
       "     Mean  |    2634.21286259311  |\n",
       "      Min  |                 2.0  |\n",
       "      Max  |             39320.0  |\n",
       "    Range  |             39318.0  |\n",
       " Variance  |   4626425.197722117  |\n",
       " Std. Dev  |  2150.9126429778867  |\n",
       "      Column: total_bedrooms       \n",
       " Measure   |        Value         |\n",
       "-----------------------------------\n",
       "        n  |             16513.0  |\n",
       "      sum  |           8789852.0  |\n",
       "     Mean  |   532.2989160055702  |\n",
       "      Min  |                 0.0  |\n",
       "      Max  |              6210.0  |\n",
       "    Range  |              6210.0  |\n",
       " Variance  |  177106.46841997464  |\n",
       " Std. Dev  |  420.84019344636584  |\n",
       "        Column: population         \n",
       " Measure   |        Value         |\n",
       "-----------------------------------\n",
       "        n  |             16513.0  |\n",
       "      sum  |         2.3456399E7  |\n",
       "     Mean  |  1420.4807727245177  |\n",
       "      Min  |                 3.0  |\n",
       "      Max  |             35682.0  |\n",
       "    Range  |             35679.0  |\n",
       " Variance  |  1236597.7854981436  |\n",
       " Std. Dev  |   1112.024183863887  |\n",
       "        Column: households         \n",
       " Measure   |        Value         |\n",
       "-----------------------------------\n",
       "        n  |             16513.0  |\n",
       "      sum  |           8242680.0  |\n",
       "     Mean  |   499.1630836310793  |\n",
       "      Min  |                 1.0  |\n",
       "      Max  |              5358.0  |\n",
       "    Range  |              5357.0  |\n",
       " Variance  |  144452.41871461814  |\n",
       " Std. Dev  |  380.06896573466526  |\n",
       "       Column: median_income       \n",
       " Measure   |        Value         |\n",
       "-----------------------------------\n",
       "        n  |             16513.0  |\n",
       "      sum  |   63880.59929999966  |\n",
       "     Mean  |  3.8685035608308587  |\n",
       "      Min  |              0.4999  |\n",
       "      Max  |             15.0001  |\n",
       "    Range  |             14.5002  |\n",
       " Variance  |  3.5902635148662045  |\n",
       " Std. Dev  |  1.8947990697871382  |\n",
       "    Column: median_house_value     \n",
       " Measure   |        Value         |\n",
       "-----------------------------------\n",
       "        n  |             16513.0  |\n",
       "      sum  |       3.415021577E9  |\n",
       "     Mean  |  206808.06497910773  |\n",
       "      Min  |             14999.0  |\n",
       "      Max  |            500001.0  |\n",
       "    Range  |            485002.0  |\n",
       " Variance  |  1.3337065357892E10  |\n",
       " Std. Dev  |  115486.21284764688  |\n",
       "Column: ocean_proximity \n",
       "  Category   |  Count  |\n",
       "------------------------\n",
       "     ISLAND  |      4  |\n",
       " NEAR OCEAN  |   2126  |\n",
       "     INLAND  |   5244  |\n",
       "   NEAR BAY  |   1832  |\n",
       "  <1H OCEAN  |   7307  |\n",
       "    Column: rooms_per_household    \n",
       " Measure   |        Value         |\n",
       "-----------------------------------\n",
       "        n  |             16513.0  |\n",
       "      sum  |   89738.84202243334  |\n",
       "     Mean  |   5.434436021463891  |\n",
       "      Min  |  0.8461538461538461  |\n",
       "      Max  |  132.53333333333333  |\n",
       "    Range  |   131.6871794871795  |\n",
       " Variance  |   5.671287606143689  |\n",
       " Std. Dev  |    2.38144653648653  |\n",
       "      Column: bedrooms_per_room       \n",
       " Measure   |          Value          |\n",
       "--------------------------------------\n",
       "        n  |                16513.0  |\n",
       "      sum  |     3480.8218185730348  |\n",
       "     Mean  |     0.2107928189046837  |\n",
       "      Min  |                    0.0  |\n",
       "      Max  |                    1.0  |\n",
       "    Range  |                    1.0  |\n",
       " Variance  |  0.0038286578370289224  |\n",
       " Std. Dev  |   0.061876149177440914  |\n",
       "  Column: population_per_household  \n",
       " Measure   |         Value         |\n",
       "------------------------------------\n",
       "        n  |              16513.0  |\n",
       "      sum  |   17938.005870362267  |\n",
       "     Mean  |   1.0862960013542127  |\n",
       "      Min  |                  0.0  |\n",
       "      Max  |    34.06666666666667  |\n",
       "    Range  |    34.06666666666667  |\n",
       " Variance  |  0.23033903094373406  |\n",
       " Std. Dev  |   0.4799364863643252  |\n",
       "\n"
      ]
     },
     "execution_count": 57,
     "metadata": {},
     "output_type": "execute_result"
    }
   ],
   "source": [
    "housing.addColumns( \n",
    "    housing.nCol(\"total_rooms\").divide(housing.nCol(\"households\")).setName(\"rooms_per_household\"),\n",
    "    housing.nCol(\"total_bedrooms\").divide(housing.nCol(\"total_rooms\")).setName(\"bedrooms_per_room\"),\n",
    "    housing.nCol(\"total_bedrooms\").divide(housing.nCol(\"households\")).setName(\"population_per_household\")\n",
    ");\n",
    "housing.summary()"
   ]
  },
  {
   "cell_type": "code",
   "execution_count": 58,
   "metadata": {},
   "outputs": [
    {
     "data": {
      "text/plain": [
       "[(bedrooms_per_room, -0.23133972663122307), (latitude, -0.15057677836355435), (population_per_household, -0.051073965333551734), (longitude, -0.038404506216789674), (population, -0.02288331529098258), (total_bedrooms, 0.05065901579270411), (households, 0.06801785534914913), (housing_median_age, 0.10503576944407318), (total_rooms, 0.13464004326853155), (rooms_per_household, 0.15012588849367983), (median_income, 0.6863969572461165), (median_house_value, 1.0)]"
      ]
     },
     "execution_count": 58,
     "metadata": {},
     "output_type": "execute_result"
    }
   ],
   "source": [
    "var medianVector  = housing.intColumn(\"median_house_value\").asDoubleColumn();\n",
    "\n",
    "var corr = new PearsonsCorrelation();\n",
    "housing.numericColumns().stream()\n",
    "    .map(i -> Tuple.of(i.name(),corr.correlation( i.asDoubleArray(), medianVector.asDoubleArray() )))    \n",
    "    .sorted((a, b) -> {\n",
    "        int c = 0;\n",
    "        if( a._2 == Double.NaN  && b._2 == Double.NaN ){\n",
    "            c = 0;\n",
    "        }\n",
    "        else if(b._2 == Double.NaN || a._2 > b._2){\n",
    "            c = 1;\n",
    "        }\n",
    "        else if(a._2 == Double.NaN ||a._2 < b._2){\n",
    "            c = -1;\n",
    "        }\n",
    "        \n",
    "        return c;\n",
    "    })\n",
    "    .collect(Collectors.toList());"
   ]
  },
  {
   "cell_type": "code",
   "execution_count": 59,
   "metadata": {},
   "outputs": [
    {
     "data": {
      "text/plain": [
       "                                                                                                                                                                                                                                  housing.csv summary                                                                                                                                                                                                                                  \n",
       " Missing Values [housing_median_age]  |  Missing Values [median_income]  |  Missing Values [latitude]  |  Missing Values [ocean_proximity]  |  Missing Values [households]  |  Missing Values [total_bedrooms]  |  Missing Values [population]  |  Missing Values [median_house_value]  |  Missing Values [total_rooms]  |  Missing Values [population_per_household]  |  Missing Values [bedrooms_per_room]  |  Missing Values [longitude]  |  Missing Values [rooms_per_household]  |\n",
       "---------------------------------------------------------------------------------------------------------------------------------------------------------------------------------------------------------------------------------------------------------------------------------------------------------------------------------------------------------------------------------------------------------------------------------------------------------------------------------------\n",
       "                                 0.0  |                             0.0  |                        0.0  |                               0.0  |                          0.0  |                              0.0  |                          0.0  |                                  0.0  |                           0.0  |                                        0.0  |                                 0.0  |                         0.0  |                                   0.0  |"
      ]
     },
     "execution_count": 59,
     "metadata": {},
     "output_type": "execute_result"
    }
   ],
   "source": [
    "housing.missingValueCounts();"
   ]
  },
  {
   "cell_type": "markdown",
   "metadata": {},
   "source": [
    "**I am going with option 1(Get rid of the corresponding districts.)"
   ]
  },
  {
   "cell_type": "code",
   "execution_count": 60,
   "metadata": {},
   "outputs": [
    {
     "data": {
      "text/plain": [
       "                                                                                                                                                                                                                                  housing.csv summary                                                                                                                                                                                                                                  \n",
       " Missing Values [housing_median_age]  |  Missing Values [median_income]  |  Missing Values [latitude]  |  Missing Values [ocean_proximity]  |  Missing Values [households]  |  Missing Values [total_bedrooms]  |  Missing Values [population]  |  Missing Values [median_house_value]  |  Missing Values [total_rooms]  |  Missing Values [population_per_household]  |  Missing Values [bedrooms_per_room]  |  Missing Values [longitude]  |  Missing Values [rooms_per_household]  |\n",
       "---------------------------------------------------------------------------------------------------------------------------------------------------------------------------------------------------------------------------------------------------------------------------------------------------------------------------------------------------------------------------------------------------------------------------------------------------------------------------------------\n",
       "                                 0.0  |                             0.0  |                        0.0  |                               0.0  |                          0.0  |                            173.0  |                          0.0  |                                  0.0  |                           0.0  |                                      173.0  |                               173.0  |                         0.0  |                                   0.0  |"
      ]
     },
     "execution_count": 60,
     "metadata": {},
     "output_type": "execute_result"
    }
   ],
   "source": [
    "housing = strats[1].copy();\n",
    "housing.addColumns( \n",
    "    housing.nCol(\"total_rooms\").divide(housing.nCol(\"households\")).setName(\"rooms_per_household\"),\n",
    "    housing.nCol(\"total_bedrooms\").divide(housing.nCol(\"total_rooms\")).setName(\"bedrooms_per_room\"),\n",
    "    housing.nCol(\"total_bedrooms\").divide(housing.nCol(\"households\")).setName(\"population_per_household\")\n",
    ");\n",
    "//housing =housing.dropRowsWithMissingValues();\n",
    "housing.missingValueCounts();"
   ]
  },
  {
   "cell_type": "code",
   "execution_count": null,
   "metadata": {},
   "outputs": [],
   "source": [
    "\n",
    "\n"
   ]
  },
  {
   "cell_type": "code",
   "execution_count": 61,
   "metadata": {},
   "outputs": [],
   "source": [
    "\n",
    "import java.util.ArrayList;\n",
    "import java.util.List;\n",
    "import java.util.stream.Collectors;\n",
    "import java.util.stream.IntStream;\n",
    "\n",
    "import weka.core.Attribute;\n",
    "import tech.tablesaw.api.ColumnType;\n",
    "import tech.tablesaw.api.NumericColumn;\n",
    "import tech.tablesaw.api.StringColumn;\n",
    "import tech.tablesaw.columns.Column;\n",
    "import tech.tablesaw.table.Relation;\n",
    "import weka.core.DenseInstance;\n",
    "import weka.core.Instance;\n",
    "import weka.core.Instances;\n",
    "import weka.core.Utils;\n",
    "\n",
    "/**\n",
    " *\n",
    " * @author James Akinniranye\n",
    " */\n",
    "public class WekaConverter {\n",
    "\n",
    "    private Relation table;\n",
    "    private Instances structure;\n",
    "\n",
    "    public WekaConverter() {\n",
    "        \n",
    "    }\n",
    "    public WekaConverter(Relation table) {\n",
    "        this.table = table;\n",
    "    }\n",
    "    \n",
    "    public WekaConverter setRelation(Relation table) {\n",
    "        this.table = table;\n",
    "        return this;\n",
    "    }\n",
    "\n",
    "    /**\n",
    "     * Returns a dataset where the response column is numeric. E.g. to be used\n",
    "     * for a regression\n",
    "     */\n",
    "    public Instances numericDataset(String classColName) {\n",
    "        return dataset(\n",
    "                table.numberColumn(classColName),\n",
    "                AttributeType.NUMERIC,\n",
    "                table.numericColumns().stream().filter(c -> !c.name().equals(classColName)).collect(Collectors.toList()));\n",
    "    }\n",
    "\n",
    "    /**\n",
    "     * Returns a dataset where the response column is numeric. E.g. to be used\n",
    "     * for a regression\n",
    "     */\n",
    "    public Instances numericDataset(int classColIndex, int... variablesColIndices) {\n",
    "        return dataset(table.numberColumn(classColIndex), AttributeType.NUMERIC, table.columns(variablesColIndices));\n",
    "    }\n",
    "\n",
    "    /**\n",
    "     * Returns a dataset where the response column is numeric. E.g. to be used\n",
    "     * for a regression\n",
    "     */\n",
    "    public Instances numericDataset(String classColName, String... variablesColNames) {\n",
    "        return dataset(table.numberColumn(classColName), AttributeType.NUMERIC, table.columns(variablesColNames));\n",
    "    }\n",
    "\n",
    "    /**\n",
    "     * Returns a dataset where the response column is nominal. E.g. to be used\n",
    "     * for a classification\n",
    "     */\n",
    "    public Instances nominalDataset(String classColName) {\n",
    "        return dataset(\n",
    "                table.numberColumn(classColName),\n",
    "                AttributeType.NOMINAL,\n",
    "                table.numericColumns().stream().filter(c -> !c.name().equals(classColName)).collect(Collectors.toList()));\n",
    "    }\n",
    "\n",
    "    /**\n",
    "     * Returns a dataset where the response column is nominal. E.g. to be used\n",
    "     * for a classification\n",
    "     */\n",
    "    public Instances nominalDataset(int classColIndex, int... variablesColIndices) {\n",
    "        return dataset(table.numberColumn(classColIndex), AttributeType.NOMINAL, table.columns(variablesColIndices));\n",
    "    }\n",
    "\n",
    "    /**\n",
    "     * Returns a dataset where the response column is nominal. E.g. to be used\n",
    "     * for a classification\n",
    "     */\n",
    "    public Instances nominalDataset(String classColName, String... variablesColNames) {\n",
    "        return dataset(table.numberColumn(classColName), AttributeType.NOMINAL, table.columns(variablesColNames));\n",
    "    }\n",
    "\n",
    "    private Instances dataset(NumericColumn<?> classCol, AttributeType type, List<Column<?>> variableCols) {\n",
    "        List<Column<?>> convertedVariableCols = variableCols.stream()\n",
    "                .map(col -> col.type() == ColumnType.STRING ? col : table.nCol(col.name()))\n",
    "                .collect(Collectors.toList());\n",
    "       \n",
    "\n",
    "       \n",
    "        Instances dataset;\n",
    "        if(structure == null){\n",
    "             Attribute classAttribute = type == AttributeType.NOMINAL\n",
    "                ? colAsNominalAttribute(classCol) : new Attribute(classCol.name());\n",
    "            ArrayList<Attribute> attributes = new ArrayList<>(convertedVariableCols.stream().map(col -> colAsAttribute(col)).collect(Collectors.toList()));\n",
    "            attributes.add(classAttribute);\n",
    "            dataset = new Instances(table.name(), attributes,classCol.size());\n",
    "            dataset.setClass(classAttribute);\n",
    "        }\n",
    "        else{\n",
    "            dataset = new Instances(structure,classCol.size());\n",
    "        }\n",
    "        \n",
    "        for (int i = 0; i < classCol.size(); i++) {\n",
    "            Instance inst = new DenseInstance(dataset.numAttributes());\n",
    "            inst.setDataset(dataset);\n",
    "            final int r = i;\n",
    "            IntStream.range(0, dataset.numAttributes()-1)\n",
    "                    .forEach(c -> inst.setValue(c, getDouble(convertedVariableCols.get(c), dataset.attribute(c), r)));\n",
    "            inst.setValue(dataset.numAttributes()-1, getDouble(classCol, dataset.classAttribute(), r));\n",
    "            dataset.add(inst);\n",
    "        }\n",
    "        if(structure == null){\n",
    "            structure  = dataset.stringFreeStructure();\n",
    "        }\n",
    "        dataset.compactify();\n",
    "        return dataset;\n",
    "    }\n",
    "\n",
    "    private double getDouble(Column<?> col, Attribute attr, int r) {\n",
    "        if (col.type() == ColumnType.STRING) {\n",
    "            return attr.indexOfValue(Utils.unquote(((StringColumn) col).get(r)));\n",
    "        }\n",
    "        if (col instanceof NumericColumn) {\n",
    "            return ((NumericColumn<?>) col).getDouble(r);\n",
    "        }\n",
    "        throw new IllegalStateException(\"Error converting \" + col.type() + \" column \" + col.name() + \" to Smile\");\n",
    "    }\n",
    "\n",
    "    private Attribute colAsAttribute(Column<?> col) {\n",
    "        return col.type() == ColumnType.STRING ? colAsNominalAttribute(col) : new Attribute(col.name());\n",
    "    }\n",
    "\n",
    "    private Attribute colAsNominalAttribute(Column<?> col) {\n",
    "        Column<?> unique = col.unique().removeMissing();\n",
    "        Attribute att = new Attribute(col.name(),\n",
    "                unique.mapInto(o -> Utils.unquote(o.toString()), StringColumn.create(col.name(), unique.size())).asList());\n",
    "        //att.setWeight(1.0);\n",
    "        return att;\n",
    "    }\n",
    "\n",
    "    private static enum AttributeType {\n",
    "        NUMERIC,\n",
    "        NOMINAL\n",
    "    }\n",
    "}\n"
   ]
  },
  {
   "cell_type": "code",
   "execution_count": 62,
   "metadata": {},
   "outputs": [
    {
     "data": {
      "text/plain": [
       "Relation Name:  housing.csv\n",
       "Num Instances:  16513\n",
       "Num Attributes: 13\n",
       "\n",
       "     Name                      Type  Nom  Int Real     Missing      Unique  Dist\n",
       " 1 longitude                  Num   0%   1%  99%     0 /  0%    82 /  0%   817 \n",
       " 2 latitude                   Num   0%   1%  99%     0 /  0%   110 /  1%   844 \n",
       " 3 housing_median_age         Num   0% 100%   0%     0 /  0%     0 /  0%    52 \n",
       " 4 total_rooms                Num   0% 100%   0%     0 /  0%  2033 / 12%  5499 \n",
       " 5 total_bedrooms             Num   0%  99%   0%   173 /  1%   456 /  3%  1823 \n",
       " 6 population                 Num   0% 100%   0%     0 /  0%  1091 /  7%  3635 \n",
       " 7 households                 Num   0% 100%   0%     0 /  0%   444 /  3%  1719 \n",
       " 8 median_income              Num   0%   1%  99%     0 /  0%  8396 / 51% 10916 \n",
       " 9 ocean_proximity            Nom 100%   0%   0%     0 /  0%     0 /  0%     5 \n",
       "10 rooms_per_household        Num   0%   0% 100%     0 /  0% 15037 / 91% 15662 \n",
       "11 bedrooms_per_room          Num   0%   0%  99%   173 /  1% 14989 / 91% 15552 \n",
       "12 population_per_household   Num   0%   1%  98%   173 /  1%  9442 / 57% 11868 \n",
       "13 median_house_value         Num   0% 100%   0%     0 /  0%   809 /  5%  3669 \n"
      ]
     },
     "execution_count": 62,
     "metadata": {},
     "output_type": "execute_result"
    }
   ],
   "source": [
    "var cols= housing.columnNames().stream().filter(c -> !c.equals(\"median_house_value\")).toArray(String[]::new);\n",
    "var wekaConverter = new WekaConverter(housing);\n",
    "var housingMl = wekaConverter.numericDataset(\"median_house_value\",cols);\n",
    "housingMl.toSummaryString();"
   ]
  },
  {
   "cell_type": "code",
   "execution_count": 63,
   "metadata": {},
   "outputs": [
    {
     "data": {
      "text/plain": [
       "Relation Name:  housing.csv-weka.filters.supervised.attribute.NominalToBinary\n",
       "Num Instances:  16513\n",
       "Num Attributes: 16\n",
       "\n",
       "     Name                      Type  Nom  Int Real     Missing      Unique  Dist\n",
       " 1 longitude                  Num   0%   1%  99%     0 /  0%    82 /  0%   817 \n",
       " 2 latitude                   Num   0%   1%  99%     0 /  0%   110 /  1%   844 \n",
       " 3 housing_median_age         Num   0% 100%   0%     0 /  0%     0 /  0%    52 \n",
       " 4 total_rooms                Num   0% 100%   0%     0 /  0%  2033 / 12%  5499 \n",
       " 5 total_bedrooms             Num   0%  99%   0%   173 /  1%   456 /  3%  1823 \n",
       " 6 population                 Num   0% 100%   0%     0 /  0%  1091 /  7%  3635 \n",
       " 7 households                 Num   0% 100%   0%     0 /  0%   444 /  3%  1719 \n",
       " 8 median_income              Num   0%   1%  99%     0 /  0%  8396 / 51% 10916 \n",
       " 9 ocean_proximity=<1H OCEAN  Num   0% 100%   0%     0 /  0%     0 /  0%     2 \n",
       "10 ocean_proximity=NEAR OCEA  Num   0% 100%   0%     0 /  0%     0 /  0%     2 \n",
       "11 ocean_proximity=NEAR BAY,  Num   0% 100%   0%     0 /  0%     0 /  0%     2 \n",
       "12 ocean_proximity=ISLAND     Num   0% 100%   0%     0 /  0%     0 /  0%     2 \n",
       "13 rooms_per_household        Num   0%   0% 100%     0 /  0% 15037 / 91% 15662 \n",
       "14 bedrooms_per_room          Num   0%   0%  99%   173 /  1% 14989 / 91% 15552 \n",
       "15 population_per_household   Num   0%   1%  98%   173 /  1%  9442 / 57% 11868 \n",
       "16 median_house_value         Num   0% 100%   0%     0 /  0%   809 /  5%  3669 \n"
      ]
     },
     "execution_count": 63,
     "metadata": {},
     "output_type": "execute_result"
    }
   ],
   "source": [
    "import weka.filters.supervised.attribute.NominalToBinary;\n",
    "import weka.filters.unsupervised.attribute.Remove;\n",
    "import weka.filters.Filter;\n",
    "\n",
    "\n",
    "NominalToBinary nom = new NominalToBinary();\n",
    "\n",
    "nom.setInputFormat(housingMl);\n",
    "var h2 = Filter.useFilter(housingMl, nom);\n",
    "\n",
    "h2.toSummaryString();"
   ]
  },
  {
   "cell_type": "code",
   "execution_count": 64,
   "metadata": {},
   "outputs": [
    {
     "data": {
      "text/plain": [
       "-119.6,36.56,36,738,168,737,186,1.4415,0,0,0,0,3.967742,0.227642,0.903226,54400"
      ]
     },
     "execution_count": 64,
     "metadata": {},
     "output_type": "execute_result"
    }
   ],
   "source": [
    "h2.firstInstance();"
   ]
  },
  {
   "cell_type": "code",
   "execution_count": 65,
   "metadata": {},
   "outputs": [
    {
     "data": {
      "text/plain": [
       "Relation Name:  housing.csv-weka.filters.supervised.attribute.NominalToBinary-weka.filters.unsupervised.attribute.ReplaceMissingValues\n",
       "Num Instances:  16513\n",
       "Num Attributes: 16\n",
       "\n",
       "     Name                      Type  Nom  Int Real     Missing      Unique  Dist\n",
       " 1 longitude                  Num   0%   1%  99%     0 /  0%    82 /  0%   817 \n",
       " 2 latitude                   Num   0%   1%  99%     0 /  0%   110 /  1%   844 \n",
       " 3 housing_median_age         Num   0% 100%   0%     0 /  0%     0 /  0%    52 \n",
       " 4 total_rooms                Num   0% 100%   0%     0 /  0%  2033 / 12%  5499 \n",
       " 5 total_bedrooms             Num   0%  99%   1%     0 /  0%   456 /  3%  1824 \n",
       " 6 population                 Num   0% 100%   0%     0 /  0%  1091 /  7%  3635 \n",
       " 7 households                 Num   0% 100%   0%     0 /  0%   444 /  3%  1719 \n",
       " 8 median_income              Num   0%   1%  99%     0 /  0%  8396 / 51% 10916 \n",
       " 9 ocean_proximity=<1H OCEAN  Num   0% 100%   0%     0 /  0%     0 /  0%     2 \n",
       "10 ocean_proximity=NEAR OCEA  Num   0% 100%   0%     0 /  0%     0 /  0%     2 \n",
       "11 ocean_proximity=NEAR BAY,  Num   0% 100%   0%     0 /  0%     0 /  0%     2 \n",
       "12 ocean_proximity=ISLAND     Num   0% 100%   0%     0 /  0%     0 /  0%     2 \n",
       "13 rooms_per_household        Num   0%   0% 100%     0 /  0% 15037 / 91% 15662 \n",
       "14 bedrooms_per_room          Num   0%   0% 100%     0 /  0% 14989 / 91% 15553 \n",
       "15 population_per_household   Num   0%   1%  99%     0 /  0%  9442 / 57% 11869 \n",
       "16 median_house_value         Num   0% 100%   0%     0 /  0%   809 /  5%  3669 \n"
      ]
     },
     "execution_count": 65,
     "metadata": {},
     "output_type": "execute_result"
    }
   ],
   "source": [
    "import weka.filters.unsupervised.attribute.ReplaceMissingValues;\n",
    "var rpl = new ReplaceMissingValues();\n",
    "rpl.setInputFormat(h2);\n",
    "\n",
    "h2 = Filter.useFilter(h2, rpl);\n",
    "\n",
    "h2.toSummaryString();"
   ]
  },
  {
   "cell_type": "code",
   "execution_count": 66,
   "metadata": {
    "scrolled": true
   },
   "outputs": [
    {
     "data": {
      "text/plain": [
       "test 157300.0 predicted = 148527.23488371738"
      ]
     },
     "metadata": {},
     "output_type": "display_data"
    },
    {
     "data": {
      "text/plain": [
       "test 140600.0 predicted = 147033.71660345077"
      ]
     },
     "metadata": {},
     "output_type": "display_data"
    },
    {
     "data": {
      "text/plain": [
       "test 188500.0 predicted = 125421.62854782745"
      ]
     },
     "metadata": {},
     "output_type": "display_data"
    },
    {
     "data": {
      "text/plain": [
       "test 344600.0 predicted = 261528.4177080381"
      ]
     },
     "metadata": {},
     "output_type": "display_data"
    },
    {
     "data": {
      "text/plain": [
       "test 500001.0 predicted = 336735.6393448828"
      ]
     },
     "metadata": {},
     "output_type": "display_data"
    }
   ],
   "source": [
    "import weka.classifiers.functions.SimpleLinearRegression;\n",
    "import weka.filters.unsupervised.instance.Resample;\n",
    "import weka.classifiers.evaluation.EvaluationUtils;\n",
    "import weka.filters.Filter;\n",
    "\n",
    "var linerReg = new SimpleLinearRegression();\n",
    "\n",
    "Resample resample = new Resample();\n",
    "resample.setInputFormat(h2);\n",
    "resample.setSampleSizePercent((double)5*100/h2.size());\n",
    "var evalUtil = new EvaluationUtils();\n",
    "var testH2 = Filter.useFilter(h2, resample);\n",
    "evalUtil.getTrainTestPredictions(linerReg, h2, testH2 )\n",
    "    .forEach(c -> display(\"test \"+ c.actual() + \" predicted = \"+ c.predicted() ));"
   ]
  },
  {
   "cell_type": "code",
   "execution_count": 67,
   "metadata": {},
   "outputs": [
    {
     "data": {
      "text/plain": [
       "test 157300.0 predicted = 138771.5823239796"
      ]
     },
     "metadata": {},
     "output_type": "display_data"
    },
    {
     "data": {
      "text/plain": [
       "test 140600.0 predicted = 203337.41764575848"
      ]
     },
     "metadata": {},
     "output_type": "display_data"
    },
    {
     "data": {
      "text/plain": [
       "test 188500.0 predicted = 188896.34623619076"
      ]
     },
     "metadata": {},
     "output_type": "display_data"
    },
    {
     "data": {
      "text/plain": [
       "test 344600.0 predicted = 282167.13860088587"
      ]
     },
     "metadata": {},
     "output_type": "display_data"
    },
    {
     "data": {
      "text/plain": [
       "test 500001.0 predicted = 364283.5373682962"
      ]
     },
     "metadata": {},
     "output_type": "display_data"
    }
   ],
   "source": [
    "import weka.classifiers.functions.LinearRegression;\n",
    "\n",
    "var linerReg = new LinearRegression();\n",
    "evalUtil.getTrainTestPredictions(linerReg, h2, testH2)\n",
    "    .forEach(c -> display(\"test \"+ c.actual() + \" predicted = \"+ c.predicted() ));\n"
   ]
  },
  {
   "cell_type": "code",
   "execution_count": 68,
   "metadata": {},
   "outputs": [],
   "source": [
    "import weka.filters.Filter;\n",
    "import java.util.function.Function;\n",
    "import java.util.HashMap;\n",
    "class Pipeline{\n",
    "    \n",
    "    private final Filter[] filters;\n",
    "    private final String[] attributeCols;\n",
    "    private final String classAttribute;\n",
    "    private WekaConverter converter;\n",
    "    private Function<Relation, Relation> preProcessors;\n",
    "    private final HashMap<Integer,Boolean> checks = new HashMap<>();\n",
    "    public Pipeline( String[] attributeCols, String classAttribute, Filter... filters ){\n",
    "        this.attributeCols = attributeCols;\n",
    "        this.classAttribute = classAttribute;\n",
    "        this.filters = filters;\n",
    "    }\n",
    "    \n",
    "    public void setPreProcessing(Function<Relation, Relation> preProcessors){\n",
    "        this.preProcessors = preProcessors;\n",
    "    }\n",
    "    \n",
    "    public Instances fitTransom(Relation data){\n",
    "        if(converter == null){\n",
    "            converter = new WekaConverter();\n",
    "        }\n",
    "        if(preProcessors != null){\n",
    "                data = preProcessors.apply(data);\n",
    "        }\n",
    "        Instances inst = converter.setRelation(data).numericDataset(classAttribute,attributeCols);\n",
    "        Instances result = inst;\n",
    "        for(Filter filter : filters){\n",
    "            if(!checks.containsKey(filter.hashCode()) ){\n",
    "               Try.run(() ->  filter.setInputFormat(inst));\n",
    "               checks.put(filter.hashCode(), true);\n",
    "            }\n",
    "            Instances resultTemp = result;\n",
    "            result = Try.of(() -> Filter.useFilter(resultTemp, filter)).get();\n",
    "        }\n",
    "        return result;\n",
    "    }\n",
    "}"
   ]
  },
  {
   "cell_type": "code",
   "execution_count": 69,
   "metadata": {},
   "outputs": [
    {
     "data": {
      "text/plain": [
       "@relation housing.csv-weka.filters.supervised.attribute.NominalToBinary-weka.filters.unsupervised.instance.Resample-S1-Z100.0\n",
       "\n",
       "@attribute longitude numeric\n",
       "@attribute latitude numeric\n",
       "@attribute housing_median_age numeric\n",
       "@attribute total_rooms numeric\n",
       "@attribute total_bedrooms numeric\n",
       "@attribute population numeric\n",
       "@attribute households numeric\n",
       "@attribute median_income numeric\n",
       "@attribute 'ocean_proximity=<1H OCEAN,NEAR OCEAN,NEAR BAY,ISLAND' numeric\n",
       "@attribute 'ocean_proximity=NEAR OCEAN,NEAR BAY,ISLAND' numeric\n",
       "@attribute 'ocean_proximity=NEAR BAY,ISLAND' numeric\n",
       "@attribute ocean_proximity=ISLAND numeric\n",
       "@attribute rooms_per_household numeric\n",
       "@attribute bedrooms_per_room numeric\n",
       "@attribute population_per_household numeric\n",
       "@attribute median_house_value numeric\n",
       "\n",
       "@data\n",
       "1.136147,-1.134538,-1.000264,-0.22512,-0.18438,0.006762,-0.24249,-0.735225,1,1,0,0,-0.063777,0.024056,0.074733,157300\n",
       "1.186026,-1.335207,-1.158734,0.43739,1.088206,0.201901,0.894145,-0.754066,1,1,0,0,-0.49273,1.112305,0.181178,140600\n",
       "0.617406,-0.756533,1.21832,-0.405508,-0.179587,-0.570564,-0.142509,-1.026707,1,0,0,0,-0.619323,0.858414,-0.122869,188500\n",
       "-1.173247,0.774153,0.425969,-0.786277,-0.965667,-0.937462,-0.947626,0.690309,1,0,0,0,0.566772,-1.205602,-0.271189,344600\n",
       "0.602442,-0.854534,0.742909,-0.037757,-0.330572,-0.340353,-0.279326,1.639064,1,1,0,0,0.445841,-0.972326,-0.171371,500001"
      ]
     },
     "execution_count": 69,
     "metadata": {},
     "output_type": "execute_result"
    }
   ],
   "source": [
    "import weka.filters.unsupervised.attribute.Standardize;\n",
    "\n",
    "var cols= housing.columnNames().stream().filter(c -> !c.equals(\"median_house_value\")).toArray(String[]::new);\n",
    "var pipe = new Pipeline(cols, \"median_house_value\", \n",
    "    new ReplaceMissingValues(), new Standardize(), new NominalToBinary() );\n",
    "Function<Relation,Relation> func = (hous) -> hous.addColumns( \n",
    "    hous.nCol(\"total_rooms\").divide(hous.nCol(\"households\")).setName(\"rooms_per_household\"),\n",
    "    hous.nCol(\"total_bedrooms\").divide(hous.nCol(\"total_rooms\")).setName(\"bedrooms_per_room\"),\n",
    "    hous.nCol(\"total_bedrooms\").divide(hous.nCol(\"households\")).setName(\"population_per_household\")\n",
    ");\n",
    "pipe.setPreProcessing(func);\n",
    "var d = pipe.fitTransom(strats[1].copy());\n",
    "Resample resample = new Resample();\n",
    "resample.setInputFormat(d);\n",
    "resample.setSampleSizePercent((double)5*100/d.size());\n",
    "\n",
    "var dtest = Filter.useFilter(d, resample);\n",
    "dtest;"
   ]
  },
  {
   "cell_type": "code",
   "execution_count": 70,
   "metadata": {},
   "outputs": [
    {
     "data": {
      "text/plain": [
       "test 157300.0 predicted = 138771.58232458684"
      ]
     },
     "metadata": {},
     "output_type": "display_data"
    },
    {
     "data": {
      "text/plain": [
       "test 140600.0 predicted = 203337.41764592758"
      ]
     },
     "metadata": {},
     "output_type": "display_data"
    },
    {
     "data": {
      "text/plain": [
       "test 188500.0 predicted = 188896.34623607853"
      ]
     },
     "metadata": {},
     "output_type": "display_data"
    },
    {
     "data": {
      "text/plain": [
       "test 344600.0 predicted = 282167.13860010303"
      ]
     },
     "metadata": {},
     "output_type": "display_data"
    },
    {
     "data": {
      "text/plain": [
       "test 500001.0 predicted = 364283.5373685745"
      ]
     },
     "metadata": {},
     "output_type": "display_data"
    }
   ],
   "source": [
    "var linerReg = new LinearRegression();\n",
    "linerReg.buildClassifier(d);\n",
    "evalUtil.getTestPredictions(linerReg, dtest)\n",
    "    .forEach(c -> display(\"test \"+ c.actual() + \" predicted = \"+ c.predicted() ));"
   ]
  },
  {
   "cell_type": "code",
   "execution_count": 71,
   "metadata": {},
   "outputs": [
    {
     "data": {
      "text/plain": [
       "** Linear Regression Evaluation with Datasets **"
      ]
     },
     "metadata": {},
     "output_type": "display_data"
    },
    {
     "data": {
      "text/plain": [
       "=== Summary ===\n",
       "\n",
       "Correlation coefficient                  0.8066\n",
       "Mean absolute error                  49195.8272\n",
       "Root mean squared error              68259.954 \n",
       "Relative absolute error                 53.912  %\n",
       "Root relative squared error             59.1058 %\n",
       "Total Number of Instances            16513     \n"
      ]
     },
     "metadata": {},
     "output_type": "display_data"
    },
    {
     "data": {
      "text/plain": [
       "60b5a9fe-ccca-489a-b0c6-97e23fe08b3f"
      ]
     },
     "execution_count": 71,
     "metadata": {},
     "output_type": "execute_result"
    }
   ],
   "source": [
    " import weka.classifiers.Evaluation;\n",
    " import java.util.Random;\n",
    "\n",
    "var linerReg = new LinearRegression();\n",
    "Evaluation eval = new Evaluation(d);\n",
    "eval.crossValidateModel(linerReg, d, 10, new Random(1));\n",
    "display(\"** Linear Regression Evaluation with Datasets **\");\n",
    "display(eval.toSummaryString(false));\n"
   ]
  },
  {
   "cell_type": "code",
   "execution_count": 72,
   "metadata": {},
   "outputs": [
    {
     "data": {
      "text/plain": [
       "** DecisionTable Evaluation with Datasets **"
      ]
     },
     "metadata": {},
     "output_type": "display_data"
    },
    {
     "data": {
      "text/plain": [
       "=== Summary ===\n",
       "\n",
       "Correlation coefficient                  0.8091\n",
       "Mean absolute error                  47342.078 \n",
       "Root mean squared error              67879.3971\n",
       "Relative absolute error                 51.8805 %\n",
       "Root relative squared error             58.7763 %\n",
       "Total Number of Instances            16513     \n"
      ]
     },
     "metadata": {},
     "output_type": "display_data"
    },
    {
     "data": {
      "text/plain": [
       "bcb71797-27ce-45a4-911e-78b36fe01f3a"
      ]
     },
     "execution_count": 72,
     "metadata": {},
     "output_type": "execute_result"
    }
   ],
   "source": [
    "import weka.classifiers.rules.DecisionTable;\n",
    "\n",
    "var desc = new DecisionTable();\n",
    "Evaluation eval = new Evaluation(d);\n",
    "eval.crossValidateModel(desc, d, 10, new Random(1));\n",
    "display(\"** DecisionTable Evaluation with Datasets **\");\n",
    "display(eval.toSummaryString(false));"
   ]
  },
  {
   "cell_type": "code",
   "execution_count": 73,
   "metadata": {},
   "outputs": [
    {
     "data": {
      "text/plain": [
       "test 157300.0 predicted = 164077.14920634922"
      ]
     },
     "metadata": {},
     "output_type": "display_data"
    },
    {
     "data": {
      "text/plain": [
       "test 140600.0 predicted = 164077.14920634922"
      ]
     },
     "metadata": {},
     "output_type": "display_data"
    },
    {
     "data": {
      "text/plain": [
       "test 188500.0 predicted = 204337.6588235294"
      ]
     },
     "metadata": {},
     "output_type": "display_data"
    },
    {
     "data": {
      "text/plain": [
       "test 344600.0 predicted = 280618.005"
      ]
     },
     "metadata": {},
     "output_type": "display_data"
    },
    {
     "data": {
      "text/plain": [
       "test 500001.0 predicted = 446745.0"
      ]
     },
     "metadata": {},
     "output_type": "display_data"
    }
   ],
   "source": [
    "desc.buildClassifier(d);\n",
    "evalUtil.getTestPredictions(desc,  dtest)\n",
    "    .forEach(c -> display(\"test \"+ c.actual() + \" predicted = \"+ c.predicted() ));"
   ]
  },
  {
   "cell_type": "code",
   "execution_count": 74,
   "metadata": {},
   "outputs": [
    {
     "data": {
      "text/plain": [
       "** RandomForest Regression Evaluation with Datasets **"
      ]
     },
     "metadata": {},
     "output_type": "display_data"
    },
    {
     "data": {
      "text/plain": [
       "=== Summary ===\n",
       "\n",
       "Correlation coefficient                  0.8825\n",
       "Mean absolute error                  36905.5292\n",
       "Root mean squared error              54401.5729\n",
       "Relative absolute error                 40.4435 %\n",
       "Root relative squared error             47.106  %\n",
       "Total Number of Instances            16513     \n"
      ]
     },
     "metadata": {},
     "output_type": "display_data"
    },
    {
     "data": {
      "text/plain": [
       "2a663121-e596-42e7-acc2-98cffe2c675a"
      ]
     },
     "execution_count": 74,
     "metadata": {},
     "output_type": "execute_result"
    }
   ],
   "source": [
    "import weka.classifiers.trees.RandomForest;\n",
    "\n",
    "RandomForest forest=new RandomForest();\n",
    "//increasing i to 100 makes the model better\n",
    "forest.setOptions(new String[]{\"-I\", \"10\"});\n",
    "Evaluation eval = new Evaluation(d);\n",
    "eval.crossValidateModel(forest, d, 10, new Random(1));\n",
    "display(\"** RandomForest Regression Evaluation with Datasets **\");\n",
    "display(eval.toSummaryString(false));"
   ]
  },
  {
   "cell_type": "code",
   "execution_count": 75,
   "metadata": {},
   "outputs": [
    {
     "ename": "EvalException",
     "evalue": "null",
     "output_type": "error",
     "traceback": [
      "\u001b[1m\u001b[31m---------------------------------------------------------------------------\u001b[0m",
      "\u001b[1m\u001b[31mjava.lang.ArrayIndexOutOfBoundsException: null\u001b[0m",
      "\u001b[1m\u001b[31m\tat weka.classifiers.meta.Bagging.distributionForInstance(Bagging.java:798)\u001b[0m",
      "\u001b[1m\u001b[31m\tat weka.classifiers.evaluation.EvaluationUtils.getPrediction(EvaluationUtils.java:132)\u001b[0m",
      "\u001b[1m\u001b[31m\tat weka.classifiers.evaluation.EvaluationUtils.getTestPredictions(EvaluationUtils.java:114)\u001b[0m",
      "\u001b[1m\u001b[31m\tat .(#244:1)\u001b[0m"
     ]
    }
   ],
   "source": [
    "\n",
    "//RandomForest forest=new RandomForest();\n",
    "forest.buildClassifier(d);\n",
    "forest.setOptions(new String[]{\"-I\", \"20\"});\n",
    "evalUtil.getTestPredictions(forest,  dtest)\n",
    "    .forEach(c -> display(\"test \"+ c.actual() + \" predicted = \"+ c.predicted() ));\n"
   ]
  },
  {
   "cell_type": "code",
   "execution_count": 76,
   "metadata": {},
   "outputs": [
    {
     "data": {
      "text/plain": [
       "** SMO SVM Evaluation with Datasets **"
      ]
     },
     "metadata": {},
     "output_type": "display_data"
    },
    {
     "data": {
      "text/plain": [
       "=== Summary ===\n",
       "\n",
       "Correlation coefficient                  0.8091\n",
       "Mean absolute error                  47342.078 \n",
       "Root mean squared error              67879.3971\n",
       "Relative absolute error                 51.8805 %\n",
       "Root relative squared error             58.7763 %\n",
       "Total Number of Instances            16513     \n"
      ]
     },
     "metadata": {},
     "output_type": "display_data"
    },
    {
     "data": {
      "text/plain": [
       "4027d97d-d1d3-431c-9583-dbd34e33d5ad"
      ]
     },
     "execution_count": 76,
     "metadata": {},
     "output_type": "execute_result"
    }
   ],
   "source": [
    "import weka.classifiers.functions.SMOreg;\n",
    "\n",
    "var svm = new SMOreg();\n",
    "svm.setOptions(new String[]{\"-N\",\"0\"});\n",
    "Evaluation eval = new Evaluation(d);\n",
    "eval.crossValidateModel(desc, d, 10, new Random(1));\n",
    "display(\"** SMO SVM Evaluation with Datasets **\");\n",
    "display(eval.toSummaryString(false));"
   ]
  },
  {
   "cell_type": "code",
   "execution_count": 77,
   "metadata": {},
   "outputs": [
    {
     "data": {
      "text/plain": [
       "test 157300.0 predicted = 129305.16623371604"
      ]
     },
     "metadata": {},
     "output_type": "display_data"
    },
    {
     "data": {
      "text/plain": [
       "test 140600.0 predicted = 191713.34683264172"
      ]
     },
     "metadata": {},
     "output_type": "display_data"
    },
    {
     "data": {
      "text/plain": [
       "test 188500.0 predicted = 165454.01601764496"
      ]
     },
     "metadata": {},
     "output_type": "display_data"
    },
    {
     "data": {
      "text/plain": [
       "test 344600.0 predicted = 263344.2995244953"
      ]
     },
     "metadata": {},
     "output_type": "display_data"
    },
    {
     "data": {
      "text/plain": [
       "test 500001.0 predicted = 349464.246875261"
      ]
     },
     "metadata": {},
     "output_type": "display_data"
    }
   ],
   "source": [
    "svm.buildClassifier(d);\n",
    "evalUtil.getTestPredictions(svm,  dtest)\n",
    "    .forEach(c -> display(\"test \"+ c.actual() + \" predicted = \"+ c.predicted() ));"
   ]
  },
  {
   "cell_type": "code",
   "execution_count": null,
   "metadata": {},
   "outputs": [
    {
     "name": "stdout",
     "output_type": "stream",
     "text": [
      "\n",
      "weka.classifiers.meta.GridSearch\n",
      "================================\n",
      "Options: -E RMSE -y-property kernel.gamma -y-min -3.0 -y-max 3.0 -y-step 1.0 -y-base 10.0 -y-expression pow(BASE,I) -x-property C -x-min -3.0 -x-max 3.0 -x-step 1.0 -x-base 10.0 -x-expression pow(BASE,I) -sample-size 100.0 -traversal ROW-WISE -log-file /home/will/Documents/Bet-Ml/learning/java-handson-ml -num-slots 1 -S 1 -W weka.classifiers.functions.SMOreg -output-debug-info -- -C 1.0 -N 0 -I \"weka.classifiers.functions.supportVector.RegSMOImproved -T 0.001 -V -P 1.0E-12 -L 0.001 -W 1\" -K \"weka.classifiers.functions.supportVector.RBFKernel -C 250007 -G 0.01\"\n",
      "\n",
      "Step 1:\n",
      "\n",
      "\n",
      "=== Initial grid - Start ===\n",
      "Shutting down thread pool...\n",
      "Starting thread pool with 1 slots...\n",
      "Determining best pair with 2-fold CV in Grid:\n",
      "X: -3.0 - 3.0, Step 1.0 (weka.classifiers.functions.SMOreg, property C, expr. pow(BASE,I), base 10.0)\n",
      "Y: -3.0 - 3.0, Step 1.0 (weka.classifiers.functions.SMOreg, property kernel.gamma, expr. pow(BASE,I), base 10.0)\n",
      "Dimensions (Rows x Columns): 7 x 7\n",
      "\n",
      "Performance ([-3.0, -3.0]): 0.44762895541804865 (CC), 118172.24229940363 (RMSE), 102.32789780107422 (RRSE), 87891.40284841778 (MAE), 96.32459172872906 (RAE), 199.20486057438524 (COMB), 0.0 (ACC), NaN (WAUC), NaN (KAP): cached=false\n"
     ]
    },
    {
     "name": "stderr",
     "output_type": "stream",
     "text": [
      "Progress: completed=1, failed=0, overall=49\n"
     ]
    }
   ],
   "source": [
    "import weka.classifiers.meta.GridSearch;\n",
    "var grid = new GridSearch();\n",
    "grid.setOptions(new String[]{\"-E\",\"RMSE\",\"-output-debug-info\"});\n",
    "grid.buildClassifier(d);\n",
    "grid.enumerateMeasures();"
   ]
  },
  {
   "cell_type": "code",
   "execution_count": 79,
   "metadata": {},
   "outputs": [
    {
     "ename": "CompilationException",
     "evalue": "",
     "output_type": "error",
     "traceback": [
      "\u001b[1m\u001b[30m|   \u001b[1m\u001b[30m\u001b[0m\u001b[1m\u001b[30m\u001b[41mgrid\u001b[0m\u001b[1m\u001b[30m.getBestClassifier();\u001b[0m",
      "\u001b[1m\u001b[31mcannot find symbol\u001b[0m",
      "\u001b[1m\u001b[31m  symbol:   variable grid\u001b[0m",
      ""
     ]
    }
   ],
   "source": [
    "grid.getBestClassifier();"
   ]
  },
  {
   "cell_type": "code",
   "execution_count": 80,
   "metadata": {},
   "outputs": [
    {
     "ename": "CompilationException",
     "evalue": "",
     "output_type": "error",
     "traceback": [
      "\u001b[1m\u001b[30m|   \u001b[1m\u001b[30m\u001b[0m\u001b[1m\u001b[30m\u001b[41mgrid\u001b[0m\u001b[1m\u001b[30m.getBestFilter();\u001b[0m",
      "\u001b[1m\u001b[31mcannot find symbol\u001b[0m",
      "\u001b[1m\u001b[31m  symbol:   variable grid\u001b[0m",
      ""
     ]
    }
   ],
   "source": [
    "grid.getBestFilter();"
   ]
  },
  {
   "cell_type": "code",
   "execution_count": 81,
   "metadata": {},
   "outputs": [
    {
     "ename": "CompilationException",
     "evalue": "",
     "output_type": "error",
     "traceback": [
      "\u001b[1m\u001b[30m|   \u001b[1m\u001b[30m\u001b[0m\u001b[1m\u001b[30m\u001b[41mgrid\u001b[0m\u001b[1m\u001b[30m.getEvaluation();\u001b[0m",
      "\u001b[1m\u001b[31mcannot find symbol\u001b[0m",
      "\u001b[1m\u001b[31m  symbol:   variable grid\u001b[0m",
      ""
     ]
    }
   ],
   "source": [
    "grid.getEvaluation();"
   ]
  },
  {
   "cell_type": "code",
   "execution_count": 82,
   "metadata": {},
   "outputs": [
    {
     "ename": "CompilationException",
     "evalue": "",
     "output_type": "error",
     "traceback": [
      "\u001b[1m\u001b[30m|   \u001b[1m\u001b[30mevalUtil.getTestPredictions(\u001b[0m\u001b[1m\u001b[30m\u001b[41mgrid\u001b[0m\u001b[1m\u001b[30m.getBestClassifier(),  dtest)\u001b[0m",
      "\u001b[1m\u001b[31mcannot find symbol\u001b[0m",
      "\u001b[1m\u001b[31m  symbol:   variable grid\u001b[0m",
      ""
     ]
    }
   ],
   "source": [
    "evalUtil.getTestPredictions(grid.getBestClassifier(),  dtest)\n",
    "    .forEach(c -> display(\"test \"+ c.actual() + \" predicted = \"+ c.predicted() ));"
   ]
  }
 ],
 "metadata": {
  "kernelspec": {
   "display_name": "Java",
   "language": "java",
   "name": "java"
  },
  "language_info": {
   "codemirror_mode": "java",
   "file_extension": ".java",
   "mimetype": "text/x-java-source",
   "name": "Java",
   "pygments_lexer": "java",
   "version": "12.0.1+12"
  },
  "toc": {
   "base_numbering": 1,
   "nav_menu": {},
   "number_sections": true,
   "sideBar": true,
   "skip_h1_title": false,
   "title_cell": "Table of Contents",
   "title_sidebar": "Contents",
   "toc_cell": false,
   "toc_position": {
    "height": "calc(100% - 180px)",
    "left": "10px",
    "top": "150px",
    "width": "375px"
   },
   "toc_section_display": true,
   "toc_window_display": true
  }
 },
 "nbformat": 4,
 "nbformat_minor": 2
}
